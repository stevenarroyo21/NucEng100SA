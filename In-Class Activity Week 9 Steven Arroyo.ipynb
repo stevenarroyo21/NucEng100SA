{
 "cells": [
  {
   "cell_type": "markdown",
   "metadata": {
    "id": "iWD2OB3MooG4"
   },
   "source": [
    "## Exercise 23.1\n",
    "(a) Compare the specific activities (Bq/g) of natural uranium and slightly enriched fuel, including the effect of uranium-234. Note the natural uranium density of 18.9 g/cm$^3$ and the half-lives and atomic abundances in percent for the three isotopes.\n",
    "\n",
    "(b) What fraction of the activity is due to uranium-234 in each case?\n",
    "\n",
    "Isotope|Half-Life (y)|Natural|Enriched\n",
    "------|------|------|------\n",
    "U-235|7.038$\\times$10$^8$|0.7204|3.0\n",
    "U-238|4.468$\\times$10$^9$|99.2742|96.964\n",
    "U-234|2.455$\\times$10$^5$|0.0054|0.036\n",
    "\n",
    "**HINT:** A useful starting place is to recall the formula for specific activity, activity, and the number of atoms for a particular element: $ SA = A/m$, $A = \\lambda N$, and $N_X = m_X N_A/M_X$."
   ]
  },
  {
   "cell_type": "code",
   "execution_count": null,
   "metadata": {
    "id": "nPxVtxf1otr0"
   },
   "outputs": [],
   "source": []
  },
  {
   "cell_type": "markdown",
   "metadata": {
    "id": "oVkqFQEXowbS"
   },
   "source": [
    "## Exercise 23.5\n",
    "If the maximum permissible concentration of Kr-85 in air is 1.5$\\times$10$^{–9}$ $\\mu$Ci/cm$^3$, and the yearly reactor production rate is 5$\\times$10$^5$ Ci, what is a safe diluent air volume flow rate (in cm$^3$/s) at the exit of the stack? Discuss the implications of these numbers in terms of protection of the public."
   ]
  },
  {
   "cell_type": "code",
   "execution_count": 2,
   "metadata": {
    "id": "PEhRvivnpHBL"
   },
   "outputs": [
    {
     "name": "stdout",
     "output_type": "stream",
     "text": [
      "The flow rate must be 1.057e+13 cm^3/s\n"
     ]
    }
   ],
   "source": [
    "prod_rate = 5e5*1e6/(365*24*60*60) #uCi/s\n",
    "concentration = 1.5e-9 #uCi/m^3\n",
    "\n",
    "vfr = prod_rate/concentration #cm^3/s\n",
    "print(\"The flow rate must be {:.3e} cm^3/s\".format(vfr))"
   ]
  },
  {
   "cell_type": "markdown",
   "metadata": {},
   "source": [
    "## Exercise 23.6\n",
    "(a) Calculate the maximum decay heat from a single fuel assembly of the total of 180 in a\n",
    "3000-MWt reactor at 1 d after shutdown of the reactor. (b) How much longer is required for\n",
    "the heat generation rate to decrease by an additional factor of 2?"
   ]
  },
  {
   "cell_type": "markdown",
   "metadata": {},
   "source": [
    "(a) $$ P(t) = P_0 A t^{-a} $$\n",
    "\n",
    "(b) $$ \\frac{P_2}{P_1} = \\frac{P_0 A(t + \\Delta t)^2}{P_0 A t^{-2}} $$\n",
    "\n",
    "(b) $$ = (1 + \\Delta t)^2 $$"
   ]
  },
  {
   "cell_type": "code",
   "execution_count": 4,
   "metadata": {},
   "outputs": [
    {
     "name": "stdout",
     "output_type": "stream",
     "text": [
      "0.11326348927069217 MW\n",
      "31.0\n"
     ]
    }
   ],
   "source": [
    "#This code is for part A\n",
    "P_init = 3000/180\n",
    "t = 24*3600 #day to seconds\n",
    "P_final = P_init*0.066*t**(-0.2)\n",
    "print(P_final, \"MW\")\n",
    "\n",
    "#This code is for part B\n",
    "ratio = 0.5\n",
    "dt = ratio**(-5) - 1\n",
    "print(dt)"
   ]
  },
  {
   "cell_type": "markdown",
   "metadata": {
    "id": "hBxpiNgtpTmG"
   },
   "source": [
    "## Exercise 25.3\n",
    "\n",
    "Explain why the use of a natural uranium blanket is an important feature of a breeder reactor."
   ]
  },
  {
   "cell_type": "markdown",
   "metadata": {},
   "source": [
    "Works as a reflectos that also produces Pu-239 fuel."
   ]
  },
  {
   "cell_type": "markdown",
   "metadata": {},
   "source": [
    "## Exercise 25.6\n",
    "(a) Show that CR=$\\gamma_{238}$ is required to consume all the U-235, U-238, and Pu-239 in a\n",
    "uranium-fueled reactor. (b) Must the uranium be of natural enrichment for this to be true?"
   ]
  },
  {
   "cell_type": "markdown",
   "metadata": {},
   "source": [
    "$$CR = \\frac{\\text{fissile atoms produced}}{\\text{fissile atoms consumed}} $$"
   ]
  },
  {
   "cell_type": "markdown",
   "metadata": {},
   "source": [
    "$$CR = \\frac{N_{Pu}}{\\gamma_{U-235} N_{U} + N_{Pu}} $$\n",
    "\n",
    "$$CR = \\frac{N_{Pu}}{\\gamma_{U-235} N_{U} + \\gamma_{Pu-238} N_U} $$\n",
    "\n",
    "$$CR = \\frac{\\gamma_{Pu-238}}{(\\gamma_{U-235} + \\gamma_{Pu-238})} $$"
   ]
  },
  {
   "cell_type": "code",
   "execution_count": null,
   "metadata": {},
   "outputs": [],
   "source": []
  }
 ],
 "metadata": {
  "colab": {
   "collapsed_sections": [],
   "name": "Chapter_23_25.ipynb",
   "provenance": []
  },
  "kernelspec": {
   "display_name": "Python 3",
   "language": "python",
   "name": "python3"
  },
  "language_info": {
   "codemirror_mode": {
    "name": "ipython",
    "version": 3
   },
   "file_extension": ".py",
   "mimetype": "text/x-python",
   "name": "python",
   "nbconvert_exporter": "python",
   "pygments_lexer": "ipython3",
   "version": "3.8.8"
  }
 },
 "nbformat": 4,
 "nbformat_minor": 1
}
