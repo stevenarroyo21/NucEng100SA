{
 "cells": [
  {
   "cell_type": "code",
   "execution_count": 4,
   "metadata": {},
   "outputs": [],
   "source": [
    "import math\n",
    "import scipy.constants as constants"
   ]
  },
  {
   "cell_type": "markdown",
   "metadata": {
    "id": "V0Ui8ultTcvK"
   },
   "source": [
    "### Exercises 18.1-18.3\n",
    "**Part 1**\n",
    "\n",
    "Calculate the threshold energy of the   \n",
    "(a) $^{16}$O(n,p)$^{16}$N and  \n",
    "(b) $^{17}$O(n,p)$^{17}$N reactions.\n",
    "\n",
    "**Part 2**\n",
    "\n",
    "For a water inventory of 15,000 kg in the core and a fast flux of 10$^{16}$ n /cm$^2 \\cdot$s, compute the steady-state production rate of $^{16}$N.\n",
    "\n",
    "**Part 3**\n",
    "\n",
    "Using an external technical reference (https://nds.iaea.org/relnsd/vcharthtml/VChartHTML.html), determine the emissions from the decay of N-17, which is produced from the $^{17}$O(n,p)$^{17}$N reaction. Why is this reaction in water of perhaps less concern than the $^{16}$O(n,p)$^{16}$N reaction?\n"
   ]
  },
  {
   "cell_type": "code",
   "execution_count": 8,
   "metadata": {
    "id": "73CKX8pbTWjl"
   },
   "outputs": [
    {
     "name": "stdout",
     "output_type": "stream",
     "text": [
      "Part 1, (a) The threshold energy is 10.24MeV\n",
      "Part 1, (b) The threshold energy is 8.48MeV\n",
      "The steady rate production of N-16 is 1.07e+21s^-1\n"
     ]
    }
   ],
   "source": [
    "#This code is for part 1, A\n",
    "#We need to calculate the Q-Value to get the threshold energy\n",
    "Q = (15.9949+1.00866-1.0078-16.0061)*931.5\n",
    "E_threshold = -Q*(1+(1.00866/15.9949))\n",
    "print(\"Part 1, (a) The threshold energy is {:.2f}MeV\".format(E_threshold))\n",
    "\n",
    "#This code is for part 1, B\n",
    "Q = (16.999+1.00866-1.0078-17.00845)*931.5\n",
    "E_threshold = -Q*(1+(1.00866/16.999))\n",
    "print(\"Part 1, (b) The threshold energy is {:.2f}MeV\".format(E_threshold))\n",
    "\n",
    "#This code is for part 2\n",
    "r_N16 = 16e24/15000 #Steady rate production for N-16\n",
    "print(\"The steady rate production of N-16 is {:.2e}s^-1\".format(r_N16))"
   ]
  },
  {
   "cell_type": "markdown",
   "metadata": {},
   "source": [
    "### Exercise 18.4\n",
    "\n",
    "A 2200-MWe advanced nuclear plant has an expected construction cost of $\\$5,000$/kWe and\n",
    "estimated annual O&M expenses of $\\$89$/kWe. If the projected fuel charge is $\\$2$/(MWe h),\n",
    "compute the electricity generation cost for an annual levelized fixed charge rate of 15% and\n",
    "anticipated capacity factor of $92\\%$.\n",
    "\n",
    "**Recall that the total electricity generation cost can be determined from:**\n",
    "\n",
    "$$ e = \\frac{F_B I + O\\&M}{P_e CF (8760h/y} + \\frac{F_C}{\\eta_{th}B} $$\n",
    "\n",
    "where $F_B$ is the total capital cost and $F_C$ is the $\\$/kg$ fuel cost."
   ]
  },
  {
   "cell_type": "code",
   "execution_count": 10,
   "metadata": {},
   "outputs": [
    {
     "name": "stdout",
     "output_type": "stream",
     "text": [
      "The total electricity generation cost is $0.11/kWh\n"
     ]
    }
   ],
   "source": [
    "e = ((5000*0.15)+(89))/(0.92*8760)+(2/1000) #Most of these values come from a table.\n",
    "print(\"The total electricity generation cost is ${:.2f}/kWh\".format(e))"
   ]
  }
 ],
 "metadata": {
  "colab": {
   "name": "Chapter18_Problems.ipynb",
   "provenance": []
  },
  "kernelspec": {
   "display_name": "Python 3",
   "language": "python",
   "name": "python3"
  },
  "language_info": {
   "codemirror_mode": {
    "name": "ipython",
    "version": 3
   },
   "file_extension": ".py",
   "mimetype": "text/x-python",
   "name": "python",
   "nbconvert_exporter": "python",
   "pygments_lexer": "ipython3",
   "version": "3.8.8"
  }
 },
 "nbformat": 4,
 "nbformat_minor": 1
}
