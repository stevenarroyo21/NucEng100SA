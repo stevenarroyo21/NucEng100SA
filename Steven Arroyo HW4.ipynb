{
 "cells": [
  {
   "cell_type": "markdown",
   "id": "b6b14c6b",
   "metadata": {},
   "source": [
    "## NE 100/200M - Introduction to Nuclear Energy and Technology\n",
    "# Homework 4\n",
    "##### Due September 23, 2022\n",
    "All exercises are from the Murray & Holbert textbook and are numbered accordingly."
   ]
  },
  {
   "cell_type": "code",
   "execution_count": 1,
   "id": "99044468",
   "metadata": {},
   "outputs": [],
   "source": [
    "import scipy.constants as consts\n",
    "import math as math"
   ]
  },
  {
   "cell_type": "markdown",
   "id": "9384f3e5",
   "metadata": {},
   "source": [
    "### Exercise 16.4\n",
    "\n",
    "The value of the reproduction factor in uranium containing both U-235 (1) and U-238 (2) is given by $$\\eta=\\dfrac{v_1 N_1 \\sigma^1_f + v_2 N_2 \\sigma^2_f }{N_1 \\sigma^1_a + N_2 \\sigma^2_a}$$ Calculate $\\eta$ for three reactors \n",
    "- (a) thermal, with 3% U-235, $N_1/N_2=0.0315$; \n",
    "- (b) fast, with the same fuel; \n",
    "- (c) fast, with pure U-235. \n",
    "\n",
    "Comment on the results. For the thermal constants, see tables in Chapter 6."
   ]
  },
  {
   "cell_type": "code",
   "execution_count": 2,
   "id": "02ed3931",
   "metadata": {},
   "outputs": [
    {
     "name": "stdout",
     "output_type": "stream",
     "text": [
      "(a) The thermal reproduction factor for U-235 is 1.85\n",
      "(b) The fast reproduction factor of U-235 is 1.178\n",
      "(c) The fast, pure reproduction factor of U-235 is 2.206\n"
     ]
    }
   ],
   "source": [
    "#All values are from Table 16.3 and 4.2\n",
    "\n",
    "#This code is for part A\n",
    "#For thermal U-235\n",
    "v_U235 = 2.4355\n",
    "N = 0.0315 #given in part A\n",
    "sigma_f = 582.6\n",
    "sigma_γ = 98.3\n",
    "sigma_a1 = sigma_f + sigma_γ\n",
    "sigma_a2 = 2.683\n",
    "𝜂_U235 = (v_U235*N*sigma_f)/(N*sigma_a1 + sigma_a2)\n",
    "print(\"(a) The thermal reproduction factor for U-235 is {:.2f}\".format(𝜂_U235))\n",
    "\n",
    "#This code is for part B\n",
    "#For fast U-235\n",
    "#Use the equation given in the problem\n",
    "N = 0.0315\n",
    "v1_U235 = 2.6\n",
    "v2_U235 = 2.6\n",
    "sigma_f1 = 1.4\n",
    "sigma_f2 = 0.095\n",
    "sigma_a1 = sigma_f1 + 0.25\n",
    "sigma_a2 = sigma_f2 + 0.16\n",
    "𝜂_U235fast = ((v1_U235*N*sigma_f1) + (v2_U235*sigma_f2))/((N*sigma_a1) + sigma_a2)\n",
    "print(\"(b) The fast reproduction factor of U-235 is {:.3f}\".format(𝜂_U235fast))\n",
    "\n",
    "#This code is for part C\n",
    "#Since this is a fast and pure reaction, N1 = N2, which means the equation becomes different.\n",
    "𝜂_pure = (v1_U235*sigma_f1)/(sigma_a1)\n",
    "print(\"(c) The fast, pure reproduction factor of U-235 is {:.3f}\".format(𝜂_pure))"
   ]
  },
  {
   "cell_type": "markdown",
   "id": "97ab8b7c",
   "metadata": {},
   "source": [
    "### Exercise 16.5\n",
    "\n",
    "- (a) Using thermal neutron values, find $\\eta$ for uranium dioxide in which the U-235 atom fraction is 0.2, regarded as a practical lower limit for nuclear weapons material.\n",
    "- (b) Would the fuel be suitable for a research reactor?"
   ]
  },
  {
   "cell_type": "markdown",
   "id": "24aa5a08",
   "metadata": {},
   "source": [
    "$$\\eta = \\frac{\\nu_{235} \\Sigma_{f235}}{\\Sigma_{a235}+\\Sigma_{a238}+\\Sigma_{a0}}$$\n",
    "\n",
    "Which then can be converted to:\n",
    "\n",
    "$$\\eta = \\frac{\\nu_{235} \\gamma_{235} N_U \\sigma_{f235}}{\\gamma_{235} N_U \\sigma_{a235} + \\gamma_{238} N_U \\sigma_{a238} + 2N_U \\sigma_{aO}}$$"
   ]
  },
  {
   "cell_type": "code",
   "execution_count": 3,
   "id": "a2447711",
   "metadata": {},
   "outputs": [
    {
     "name": "stdout",
     "output_type": "stream",
     "text": [
      "(a) The reproduction factor for Uranium Dioxide is 2.052\n",
      "(b) Yes, because the reproduction factor of 2.052 is greater than that of typical thermal reactor.\n"
     ]
    }
   ],
   "source": [
    "#For this we can use the values given in Table 16.3 and 4.2 again\n",
    "#Also I've converted the equation given in exercise 16.6 for this question\n",
    "\n",
    "#This code is for part A\n",
    "#With the equation above, we can just plug in all the values we know:\n",
    "v_U235 = 2.4355\n",
    "sigma_f = 582.6\n",
    "sigma_𝛾 = 98.3\n",
    "sigma_a235 = sigma_f + sigma_𝛾\n",
    "sigma_a238 = 0.8\n",
    "𝛾235N = 0.2\n",
    "𝛾238N = 2.683\n",
    "N_sigma = 0.00019\n",
    "𝜂 = (v_U235*𝛾235N*sigma_f)/((𝛾235N*sigma_a235)+(𝛾238N*sigma_a238)+(2*N_sigma))\n",
    "print(\"(a) The reproduction factor for Uranium Dioxide is {:.3f}\".format(𝜂))\n",
    "\n",
    "#This code is for part B\n",
    "#For a thermal reactor, the typical thermal reporduction factor was 1.85 (which was calculated from the previous question).\n",
    "print(\"(b) Yes, because the reproduction factor of 2.052 is greater than that of typical thermal reactor.\")"
   ]
  },
  {
   "cell_type": "markdown",
   "id": "15b18859",
   "metadata": {},
   "source": [
    "### Exercise 16.7\n",
    "\n",
    "Find the ratio of weight percentages of U-235 and U-238 at a time 1.9 billion years ago, assuming the present 0.711/99.289 ratio."
   ]
  },
  {
   "cell_type": "markdown",
   "id": "87a48379",
   "metadata": {},
   "source": [
    "The equation for half life:\n",
    "\n",
    "$$\\lambda = \\frac{\\ln 2}{T_{1/2}}$$\n",
    "\n",
    "And the ratio of atoms between the two is:\n",
    "\n",
    "$$R = \\frac{N_{235}}{N_{238}} = \\frac{\\lambda_{235}}{\\lambda_{238}} = \\frac{w_{235}M_{238}}{w_{238}M_{235}}$$\n",
    "\n",
    "From the book, we can use the atom ratio equation:\n",
    "\n",
    "$$R = \\frac{R_0\\exp({-\\lambda_{235} t})}{\\exp({-\\lambda_{238} t})}$$"
   ]
  },
  {
   "cell_type": "code",
   "execution_count": 4,
   "id": "ccf1a750",
   "metadata": {},
   "outputs": [
    {
     "name": "stdout",
     "output_type": "stream",
     "text": [
      "The ratio of weight percentages between these two isotopes is 0.0346\n"
     ]
    }
   ],
   "source": [
    "#We know the value of the half-life for U-235 and U-238 in years\n",
    "t_halfU235 = 7.04e8\n",
    "t_halfU238 = 4.47e9\n",
    "#So the half life for these isotopes are:\n",
    "𝜆U235 = math.log(2)/t_halfU235\n",
    "𝜆U238 = math.log(2)/t_halfU238\n",
    "#Now we can solve for the R value:\n",
    "w_235 = 0.711\n",
    "w_238 = 99.289\n",
    "M_235 = 235\n",
    "M_238 = 238\n",
    "R = ((w_235)*(M_238))/((w_238)*(M_235))\n",
    "#Now we can solve for the initial ratio R_0\n",
    "R_0 = (R*(math.exp(-𝜆U238*(1.9e9))))/(math.exp(-𝜆U235*(1.9e9)))\n",
    "#Now with this new R_0 value, we can solve for the initial weight ratio:\n",
    "ratio = R_0*((M_235)/(M_238))\n",
    "print(\"The ratio of weight percentages between these two isotopes is {:.4f}\".format(ratio))"
   ]
  },
  {
   "cell_type": "markdown",
   "id": "bba07766",
   "metadata": {},
   "source": [
    "### Exercise 16.8\n",
    "Constants for a spherical fast U-235 metal assembly are: diffusion coefficient D = 1.02 cm; macroscopic absorption cross section $\\Sigma_a$ = 0.0795 cm$^{-1}$; effective radius R = 10 cm. Calcualte   \n",
    "(a) the diffusion length $L$,   \n",
    "(b) the geometric buckling $B_g^2$, and   \n",
    "(c) the nonleakage factor $\\mathcal{L}$."
   ]
  },
  {
   "cell_type": "markdown",
   "id": "5334cd72",
   "metadata": {},
   "source": [
    "L, the diffusion length, should also be an equation as:\n",
    "\n",
    "$$L^2 = \\frac{D}{\\Sigma_a} $$\n",
    "\n",
    "The buckling for this problem should be:\n",
    "\n",
    "$$B = \\frac{\\pi}{R} $$\n",
    "\n",
    "and L', which is the non-leakage term, should be:\n",
    "\n",
    "$$\\mathcal{L} = \\frac{1}{(1+L^2B^2)} $$"
   ]
  },
  {
   "cell_type": "code",
   "execution_count": 5,
   "id": "4fe787e7",
   "metadata": {},
   "outputs": [
    {
     "name": "stdout",
     "output_type": "stream",
     "text": [
      "(a) The diffusion length factor L is 3.58 cm\n",
      "(b) The geometric buckling B squared for this question is 0.09870 cm^-2\n",
      "(c) The non-leakage factor L' is 0.441\n"
     ]
    }
   ],
   "source": [
    "#This code is for part A\n",
    "D = 1.02 #in cm\n",
    "Sigma_a = 0.0795 #in cm^-1\n",
    "L = math.sqrt(D/Sigma_a)\n",
    "print(\"(a) The diffusion length factor L is {:.2f} cm\".format(L))\n",
    "\n",
    "#This code is for part B\n",
    "#Note: We need to calculate the geometric buckling squared?\n",
    "R = 10 #in cm\n",
    "B_squared = (math.pi/R)*(math.pi/R)\n",
    "print(\"(b) The geometric buckling B squared for this question is {:.5f} cm^-2\".format(B_squared))\n",
    "\n",
    "#This code is for part C\n",
    "fancy_L = 1/((1+(L*L)*(B_squared)))\n",
    "print(\"(c) The non-leakage factor L' is {:.3f}\".format(fancy_L))"
   ]
  },
  {
   "cell_type": "markdown",
   "id": "621b8f8a",
   "metadata": {},
   "source": [
    "### Exercise 16.9\n",
    "Using the actual Lady Godiva specifications of 93.9% enrichment, U-235 mass of 48.8 kg, and uranium density of 18.75 g/cm$^3$, determine   \n",
    "(a) the diffusion area and   \n",
    "(b) the nonleakage probability "
   ]
  },
  {
   "cell_type": "markdown",
   "id": "660d8cb3",
   "metadata": {},
   "source": [
    "I believe we need a few equations for this problem:\n",
    "\n",
    "$$N = \\frac{\\rho N_A}{M} $$\n",
    "\n",
    "$$P_f = \\frac{1}{(1+L^2B^2)} $$\n",
    "\n",
    "$$L^2 = \\frac{1}{3 N^2 \\sigma_{tr} (\\sigma_f + \\sigma_{\\gamma})} $$\n",
    "\n",
    "$$B = \\frac{\\pi}{R} $$"
   ]
  },
  {
   "cell_type": "code",
   "execution_count": 6,
   "id": "02ab2525",
   "metadata": {},
   "outputs": [
    {
     "name": "stdout",
     "output_type": "stream",
     "text": [
      "(a) The diffusion area, L^2, is equal to 12.868cm^2\n",
      "(b) The nonleakage probability Pf is equal to 0.37\n"
     ]
    }
   ],
   "source": [
    "#This code is for part A\n",
    "M = 235 #in g\n",
    "𝜌 = 18.75 #in g/cm^3\n",
    "N = 𝜌*consts.N_A/M\n",
    "𝜎f = 1.4*(1e-24) #barns conversion\n",
    "𝜎_gamma = 0.25*(1e-24) #barns conversion\n",
    "𝜎_tr = 6.8*(1e-24) #barns conversion\n",
    "L_squared = 1/(3*(N*N)*𝜎_tr*(𝜎f + 𝜎_gamma))\n",
    "print(\"(a) The diffusion area, L^2, is equal to {:.3f}cm^2\".format(L_squared))\n",
    "\n",
    "#This code is for part B\n",
    "R = 8.6 #in cm and given for Lady Godiva reactors\n",
    "B_squared = (math.pi/R)*(math.pi/R)\n",
    "Pf = 1/(1 + (L_squared*B_squared))\n",
    "print(\"(b) The nonleakage probability Pf is equal to {:.2f}\".format(Pf))"
   ]
  },
  {
   "cell_type": "markdown",
   "id": "329223e9",
   "metadata": {},
   "source": [
    "### Exercise 16.10\n",
    "Compute the geometric buckling for  \n",
    "(a) a parallelpiped 25 cm x 35 cm x 40 cm and  \n",
    "(b) a cylinder with radius 25 cm and height 50 cm.  \n",
    "    \n",
    "If these cores are bare metal reactors of fully enriched uranium with density 19 g/cm$^3$, what is the nonleakage probability for each?"
   ]
  },
  {
   "cell_type": "markdown",
   "id": "9cb22be4",
   "metadata": {},
   "source": [
    "For part A, we need a new geometric buckling equation for the parallelpiped, which can be this:\n",
    "\n",
    "$$B = (\\frac{\\pi}{l})^2 + (\\frac{\\pi}{w})^2 + (\\frac{\\pi}{h})^2 $$\n",
    "\n",
    "For part B, we need a new geometric buckling equation for the cylinder, which can be this:\n",
    "\n",
    "$$B = (\\frac{\\pi}{h})^2 + (\\frac{J_0}{R})^2 $$\n",
    "\n",
    "And we need an equation for nonleakage probability:\n",
    "\n",
    "$$L = \\frac{1}{1 + A^2 B_g^2} $$\n",
    "\n",
    "Where A^2 is the diffusion area."
   ]
  },
  {
   "cell_type": "code",
   "execution_count": 7,
   "id": "857f6dbd",
   "metadata": {},
   "outputs": [
    {
     "name": "stdout",
     "output_type": "stream",
     "text": [
      "(a) The geometric buckling constant here is 0.0300cm^-2\n",
      "(a) The nonleakage probability of the parallelpiped is 0.73\n",
      "(b) The geometric buckling constant here is 0.0132cm^-2\n",
      "(b) The nonleakage probability of the parallelpiped is 0.86\n"
     ]
    }
   ],
   "source": [
    "#This code is for part A\n",
    "l = 25\n",
    "w = 35\n",
    "h = 40\n",
    "pi = math.pi\n",
    "B = (pi/l)*(pi/l)+(pi/w)*(pi/w)+(pi/h)*(pi/h)\n",
    "print(\"(a) The geometric buckling constant here is {:.4f}cm^-2\".format(B))\n",
    "A = 12.5 #area of the parallelpiped\n",
    "L = 1/(1+A*B)\n",
    "print(\"(a) The nonleakage probability of the parallelpiped is {:.2f}\".format(L))\n",
    "\n",
    "#This code is for part B\n",
    "h = 50\n",
    "J0 = 2.4048\n",
    "R = 25\n",
    "B = (pi/h)*(pi/h)+(J0/R)*(J0/R)\n",
    "print(\"(b) The geometric buckling constant here is {:.4f}cm^-2\".format(B))\n",
    "A = 12.5 #area of the cylinder\n",
    "L = 1/(1+A*B)\n",
    "print(\"(b) The nonleakage probability of the parallelpiped is {:.2f}\".format(L))"
   ]
  },
  {
   "cell_type": "markdown",
   "id": "491dab97",
   "metadata": {},
   "source": [
    "### Exercise 16.11\n",
    "Calculate the resonance escape probability for a homogeneous U-graphite mixture in which the ratio of moderator-to-fuel atoms is 450. The resonance integral of the U is 277 b and the epithermal scattering cross section of carbon is 4.66 b."
   ]
  },
  {
   "cell_type": "code",
   "execution_count": 8,
   "id": "3a222c79",
   "metadata": {},
   "outputs": [
    {
     "name": "stdout",
     "output_type": "stream",
     "text": [
      "The resonance escape probability is 0.433\n"
     ]
    }
   ],
   "source": [
    "#The resonance escape is the fancy looking p equation (℘), which I gave up trying to type in LaTex\n",
    "N_C_over_N_U = 450 #moderator to fuel ratio\n",
    "I = -277\n",
    "ξ = 0.158\n",
    "𝜎 = 4.66\n",
    "℘ = math.exp(I/(ξ*𝜎*N_C_over_N_U))\n",
    "print(\"The resonance escape probability is {:.3f}\".format(℘))"
   ]
  }
 ],
 "metadata": {
  "kernelspec": {
   "display_name": "Python 3",
   "language": "python",
   "name": "python3"
  },
  "language_info": {
   "codemirror_mode": {
    "name": "ipython",
    "version": 3
   },
   "file_extension": ".py",
   "mimetype": "text/x-python",
   "name": "python",
   "nbconvert_exporter": "python",
   "pygments_lexer": "ipython3",
   "version": "3.8.8"
  }
 },
 "nbformat": 4,
 "nbformat_minor": 5
}
