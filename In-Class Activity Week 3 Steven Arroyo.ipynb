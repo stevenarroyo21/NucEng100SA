{
 "cells": [
  {
   "cell_type": "markdown",
   "id": "eb5061db",
   "metadata": {},
   "source": [
    "## NE 100/200M - Introduction to Nuclear Energy and Technology\n",
    "\n",
    "## Examples and Group Problems"
   ]
  },
  {
   "cell_type": "code",
   "execution_count": 1,
   "id": "25c933ec",
   "metadata": {},
   "outputs": [],
   "source": [
    "# Uploading all the packages that will be used\n",
    "import scipy.constants as constants\n",
    "import math"
   ]
  },
  {
   "cell_type": "markdown",
   "id": "6355eeaf",
   "metadata": {},
   "source": [
    "### Exercise 4.8\n",
    "\n",
    "**a.** Calculate the macroscopic cross section for scattering of $1 eV$ neutrons in water.\n",
    "- N for water as $0.0334 x 10^{24} cm^{–3}$ \n",
    "- The scattering cross sections for hydrogen is 20 barns\n",
    "- The scattering cross section for oxygen is 3.8. \n",
    "\n",
    "**b.** Find the scattering mean free path $\\lambda$s.\n",
    "\n",
    "**c.** What amount of water would reduce the neutron flux (current density) from some source of 1 eV neutrons to < 1%?\n"
   ]
  },
  {
   "cell_type": "markdown",
   "id": "ba652ba7",
   "metadata": {},
   "source": [
    "$\\Sigma = N\\sigma$\n",
    "\n",
    "$\\lambda_s = 1/\\Sigma_s$"
   ]
  },
  {
   "cell_type": "code",
   "execution_count": 11,
   "id": "1b9d8dff",
   "metadata": {},
   "outputs": [
    {
     "name": "stdout",
     "output_type": "stream",
     "text": [
      "(a)The macroscopic cross section of 1eV neutrons in water is 1.445e+00 1/cm.\n",
      "(b) 0.6918500069185003 cm\n",
      "(c) 3.186087025036733 cm\n"
     ]
    }
   ],
   "source": [
    "Nw = 0.033e24\n",
    "sig_total= (2*20 + 3.8)*1e-24 #barns to cm^2\n",
    "sig_macro = Nw*sig_total\n",
    "print('(a)'\"The macroscopic cross section of 1eV neutrons in water is {:.3e} 1/cm.\".format(sig_macro))\n",
    "\n",
    "#mean-free path Lamba = 1/Sigma\n",
    "Lambda = 1/sig_macro\n",
    "print('(b)',Lambda,'cm')\n",
    "\n",
    "#Calculating for the amount of water required to reduce neutron flux value\n",
    "ratio = 0.01\n",
    "z = math.log(1/ratio)*Lambda\n",
    "print('(c)',z,'cm')"
   ]
  },
  {
   "cell_type": "markdown",
   "id": "be78066e",
   "metadata": {},
   "source": [
    "### Exercise 4.13\n",
    "\n",
    "Calculate the rate of consumption of $U-235$ and $U-238$ in a flux of $2.5\\times10^{13} cm^{–2}s^{–1}$ if the\n",
    "uranium atom number density is $0.0223\\times10^{24} cm^{–3}$, the atom number fractions of the two\n",
    "isotopes are $0.0072$ and $0.9928$, and cross sections are $681$ barns and $2.68$ barns, respectively.\n",
    "Comment on the results.\n",
    "\n",
    "Recall that:\n",
    "$$ R = \\phi\\Sigma $$\n",
    "and\n",
    "$$ \\Sigma = N\\sigma $$"
   ]
  },
  {
   "cell_type": "markdown",
   "id": "d2cff393",
   "metadata": {},
   "source": [
    "### Exercise 5.5\n",
    "\n",
    "Estimate the thickness of paper required to stop $2 MeV$ alpha particles, assuming the paper to be of density $1.29 g/cm^3$ , about the same electronic composition as air (i.e., $M_{air} \\approx M_{paper}$), density $1.29\\times10^{–3} g/cm^3$ .\n",
    "\n",
    "**Hint**\n",
    "\n",
    "We need to estimate the range for alpha particles in paper. We can use equations **5.4** ($E_{\\alpha} < 4 MeV$) and **5.5** for this:\n",
    "\n",
    "$$R_{air}[cm] = 0.56 E_{\\alpha}$$\n",
    "\n",
    "$$\\frac{R_1}{R_2} = \\frac{\\rho_2}{\\rho_1}\\sqrt{\\frac{M_1}{M_2}}$$\n"
   ]
  },
  {
   "cell_type": "markdown",
   "id": "5eeb6fec",
   "metadata": {},
   "source": [
    "### Exercise 5.8\n",
    "\n",
    "A radiation worker’s hands are exposed for 5 seconds to a $3\\times10^8 cm^{–2}s^{–1}$ beam of $1 MeV$ beta particles. Find the range in tissue of density $1.0 g/cm^3$ and calculate the amounts of energy deposition in $J/g$. \n",
    "- For tissue, use the equation in Exercise 5.7:\n",
    "\n",
    "$$𝑅[𝑐𝑚]=\\frac{0.55 E[MeV]−0.16}{\\rho[𝑔/𝑐𝑚^3]}$$\n"
   ]
  },
  {
   "cell_type": "markdown",
   "id": "b18b9bf0",
   "metadata": {},
   "source": [
    "\n",
    "**Hint:** The number of betas can be determined from the flux and the time overwhich this deposition occurred: $\\phi t$."
   ]
  },
  {
   "cell_type": "markdown",
   "id": "e1cc25bf",
   "metadata": {},
   "source": [
    "### Exercise 5.11\n",
    "\n",
    " Find the percentage reduction through $1.5 cm$ of lead from a $^{137}Cs$-produced gamma-ray flux.\n",
    " \n",
    "**Hints**\n",
    "\n",
    " The energy of gamma-rays from $^{137}Cs$: $E = .662 MeV$\n",
    " \n",
    " We can look up the mass attenuation coefficient for lead (Table A.6) to calculate $\\mu/\\rho$ at $.662 MeV$\n",
    " \n",
    " We can then use equation **5.13** for the photon flux as a function of depth:\n",
    " \n",
    " $$\\phi(x) = \\phi_0 e^{-(\\mu/\\rho)\\rho x} $$"
   ]
  }
 ],
 "metadata": {
  "kernelspec": {
   "display_name": "Python 3",
   "language": "python",
   "name": "python3"
  },
  "language_info": {
   "codemirror_mode": {
    "name": "ipython",
    "version": 3
   },
   "file_extension": ".py",
   "mimetype": "text/x-python",
   "name": "python",
   "nbconvert_exporter": "python",
   "pygments_lexer": "ipython3",
   "version": "3.8.8"
  }
 },
 "nbformat": 4,
 "nbformat_minor": 5
}
