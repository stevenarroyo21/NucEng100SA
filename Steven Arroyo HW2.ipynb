{
 "cells": [
  {
   "cell_type": "markdown",
   "metadata": {},
   "source": [
    "## NE 100/200M - Introduction to Nuclear Energy and Technology\n",
    "# Homework 2\n",
    "##### Due September 9, 2023\n",
    "All exercises are from the Murray & Holbert textbook and are numbered accordingly."
   ]
  },
  {
   "cell_type": "code",
   "execution_count": 5,
   "metadata": {},
   "outputs": [],
   "source": [
    "import scipy.constants as consts\n",
    "import math as math"
   ]
  },
  {
   "cell_type": "markdown",
   "metadata": {},
   "source": [
    "### Exercise 4.3\n",
    "Using the atomic masses from Table A.5, find the minimum amount of energy an $\\alpha$ particle must have to cause the transmutation of N-14 to O-17. "
   ]
  },
  {
   "cell_type": "code",
   "execution_count": 2,
   "metadata": {},
   "outputs": [
    {
     "name": "stdout",
     "output_type": "stream",
     "text": [
      "The minimum amount of energy needed for an 𝛼 particle to cause this transmutation is 4.203e+00 MeV.\n"
     ]
    }
   ],
   "source": [
    "#For this reaction, we need to take into account the other factors in the reaction.\n",
    "#Reaction: He + N --> O + H\n",
    "#Reaction in Words: Alpha particle plus Nitrogen 14 becomes Oxygen 17 plus Hydrogen 1.\n",
    "#We can substitue values from this reaction into Equation 4.20 in the textbook.\n",
    "Za = 2\n",
    "Zx = 7\n",
    "#Where Za and Zx represent the atomic number.\n",
    "Aa = 4**(1/3)\n",
    "Ax = 14**(1/3)\n",
    "#Where Aa and Ax represent the atomic mass to the power of 1/3rd.\n",
    "Ec = (1.2*Za*Zx)/(Aa+Ax)\n",
    "print(\"The minimum amount of energy needed for an 𝛼 particle to cause this transmutation is {:.3e} MeV.\".format(Ec))"
   ]
  },
  {
   "cell_type": "markdown",
   "metadata": {},
   "source": [
    "### Exercise 4.9\n",
    "Find the speed and number density of neutrons of energy 1.5 MeV in a flux of $7 \\times 10^{13} \\text{cm}^{-2}\\cdot\\text{s}^{-1}$."
   ]
  },
  {
   "cell_type": "code",
   "execution_count": 3,
   "metadata": {},
   "outputs": [
    {
     "name": "stdout",
     "output_type": "stream",
     "text": [
      "The speed of neutrons in this scenario is 1.732e+07m/s.\n",
      "The number density of neutrons is approximately 4.041e+04/cm^3.\n"
     ]
    }
   ],
   "source": [
    "#We need to find the speed and number density of the neutrons of energy in the flux value given above.\n",
    "#The neutron density equation is n = Φ/v where Φ is the flux and v is the speed.\n",
    "#By rearranging E = 0.5mv^2, we can solve for v\n",
    "E = (1.5*(1e6))*(1.6e-19) #In Joules\n",
    "m = 1.6e-27 #In kg\n",
    "v = math.sqrt(2*E/m)\n",
    "print(\"The speed of neutrons in this scenario is {:.3e}m/s.\".format(v))\n",
    "\n",
    "#Now for the number density.\n",
    "Φ = 7e13\n",
    "n = Φ/(v*100)\n",
    "print(\"The number density of neutrons is approximately {:.3e}/cm^3.\".format(n))"
   ]
  },
  {
   "cell_type": "markdown",
   "metadata": {},
   "source": [
    "### Exercise 4.11\n",
    "What are the values of the average logarithmic energy change $\\xi$ and the average cosine of the scattering angle $\\bar{\\mu}$ for neutrons in beryllium, A=9? How many collisions are needed to slow neutrons from 2 MeV to 0.025 eV in Be-9? What is the value of the diffiusion coefficient $D$ for 0.025 eV neutrons if $\\Sigma_s$ is $0.90\\;\\text{cm}^{-1}$?"
   ]
  },
  {
   "cell_type": "code",
   "execution_count": 4,
   "metadata": {},
   "outputs": [
    {
     "name": "stdout",
     "output_type": "stream",
     "text": [
      "The average logarithmic energy change is 2.07e-01.\n",
      "The average cosine of the scattering of neutrons is 7.41e-02.\n",
      "The number of collisions to slow neutrons from 2MeV to 0.025eV is about 8.795e+01 collisions.\n",
      "The diffusion coefficient is equal to 3.70e-01cm^-1.\n"
     ]
    }
   ],
   "source": [
    "#ζ represents the average logarithmic change, which is equal to 2/ (A + 2/3)\n",
    "A = 9\n",
    "ζ = 2/ (A+(2/3))\n",
    "print(\"The average logarithmic energy change is {:.2e}.\".format(ζ))\n",
    "\n",
    "#μ formula will help us find the consine angle, which is equal to 2/3A\n",
    "μ = 2/(3*A)\n",
    "print(\"The average cosine of the scattering of neutrons is {:.2e}.\".format(μ))\n",
    "\n",
    "#Now the number of collisions C is given by ln(E0/EF)/ζ\n",
    "E_0 = 2*(1e6) #convert to eV\n",
    "E_F = 0.025\n",
    "C = math.log(E_0/E_F)/ζ\n",
    "print(\"The number of collisions to slow neutrons from 2MeV to 0.025eV is about {:.3e} collisions.\".format(C))\n",
    "\n",
    "#Last, the diffusion coeffiecient is D = 1/3Σ where Σ is 0.90cm^-1 in this question.\n",
    "Σ = 0.9\n",
    "D = 1/(3*Σ)\n",
    "print(\"The diffusion coefficient is equal to {:.2e}cm^-1.\".format(D))"
   ]
  },
  {
   "cell_type": "markdown",
   "metadata": {},
   "source": [
    "### Exercise 4.14\n",
    "How many atoms of boron-10 per atom of carbon-12 would result in an increase of 50% in the macroscopic absorption cross section of graphite (treat graphite as all C-12)? How many $^{10}$B atoms would there then be per million $^{12}$C atoms?\n",
    "\n",
    "Hint: think about what consitutes absorption."
   ]
  },
  {
   "cell_type": "code",
   "execution_count": 5,
   "metadata": {},
   "outputs": [
    {
     "name": "stdout",
     "output_type": "stream",
     "text": [
      "The amount of atoms needed to increase the macroscopic absorption cross section is 3.530e-03.\n",
      "The number of Boron-10 atoms per million atom of Carbon-12 is 3.530000e+03.\n"
     ]
    }
   ],
   "source": [
    "#We know from the book that the macroscopic cross section equation is Σ = σN\n",
    "#σ is the absorption coefficient and N is the neutron density.\n",
    "# Σc = σcNc\n",
    "#We need to reformat this equation so that it accounts for both Carbon and Boron.\n",
    "# Σc = σcNc + σbNb where the subscript c is for carbon and the subscript b is for boron.\n",
    "#We know that for the final cross section, boron has 50% the absorption rate of carbon, so we can reformat the equation again.\n",
    "# Σcf = σcNc + 0.5σcNc = 1.5σcNc which we can now substitute in for Σc.\n",
    "# 1.5σcNc = σcNc + σbNb\n",
    "# 0.5σcNc = σbNb\n",
    "# σcNc = 2σbNb\n",
    "#Now we can solve for the ratio of Nb to Nc.\n",
    "# Nb/Nc = σc/2σb\n",
    "#From the values given in the book (Table 4.2), we have the numbers for σc and σb.\n",
    "σc = 0.00353 #barns\n",
    "σb = 0.5 #barns\n",
    "Nb_div_Nc = σc/(2*σb)\n",
    "print(\"The amount of atoms needed to increase the macroscopic absorption cross section is {:.3e}.\".format(Nb_div_Nc))\n",
    "\n",
    "#Easily enough, to find the number of B atoms per atom of C is n = Nb/Nc x 1e6\n",
    "n = Nb_div_Nc*(1e6)\n",
    "print(\"The number of Boron-10 atoms per million atom of Carbon-12 is {:3e}.\".format(n))"
   ]
  },
  {
   "cell_type": "markdown",
   "metadata": {},
   "source": [
    "### Exercise 4.19\n",
    "When a projectile of mass $m_1$ and velocity vector $\\vec{u_1}$ collides elastically with a target of mass $m_2$ and velocity vector $\\vec{u_2}$, the final velocities are:\n",
    "$$ \\vec{v_1} = [2m_2\\vec{u_2} + (m_1 - m_2)\\vec{u_1}]/(m_1 + m_2)$$\n",
    "$$ \\vec{v_2} = [2m_1\\vec{u_1} + (m_2 - m_1)\\vec{u_2}]/(m_1 + m_2)$$\n",
    "Find the velocities if $\\vec{u_2} = 0$ and $m_2>>m_1$.   \n",
    "Briefly describe what this means about the particles' motion after the interaction."
   ]
  },
  {
   "cell_type": "markdown",
   "metadata": {},
   "source": [
    "We need to show that u2 = 0 and m2 >> m1\n",
    "\n",
    "The best way to do this is by applying the Law of Conservation of Kinetic Energy and Conservation of Momentum.\n",
    "\n",
    "m1u1 + m2u2 = m1v1 + m2v2\n",
    "which we can simplify this to\n",
    "m1(u1 - v1) = m2(u2 - v2)\n",
    "\n",
    "By applying the Law of Conservation of KE, we get 0.5m1u1^2 + 0.5m2u2^2 = 0.5m1v1^2 + 0.5m2v2^2\n",
    "\n",
    "This then simplifies down to\n",
    "m1(u1 - v1)(u1 + v1) = m2(u2 - v2)(u2 + v2)\n",
    "\n",
    "We can divide this by our original equation and put it in a ratio to get this:\n",
    "\n",
    "[m1(u1 - v1)(u1 + v1)]/[m1(u1 - v1)] = [m2(u2 - v2)(u2 + v2)]/[m2(u2 - v2)]\n",
    "\n",
    "Which then simplifies to: (u1 + v1) = (u2 + v2)\n",
    "\n",
    "Using this equation, solve for v1: v1 = (2*m2u2 + (m1 - m2)u1)/(m1 + m2)\n",
    "\n",
    "If we account of m2 >> m1, then we must substitue a value of u2 = 0 for this equation, which yields that v1 = -u1\n",
    "\n",
    "If u2  is equal to 0 and v1 = -u1, then v2 must consequently be 0.\n",
    "This means that m1 projectile will be launched at the velocity v1 and m2 will be at rest even after the collision."
   ]
  },
  {
   "cell_type": "markdown",
   "metadata": {},
   "source": [
    "### Exercise 5.3\n",
    "For 180$^{\\circ}$ scattering of gamma or X-rays by electrons, the final energy of the photon is\n",
    "$$E' = \\biggl(\\frac{1}{E} + \\frac{2}{E_0}\\biggr)^{-1}$$\n",
    "(a) What is the final photon energy for a 6 MeV gamma ray?  \n",
    "(b) Verify that if $E>>E_0$ then $E'\\approx\\frac{E_0}{2}$ and if $E<<E_0$ then $\\frac{(E-E')}{E}\\approx 2\\frac{E}{E_0}$.  \n",
    "(c) Which approximation is best for the 6 MeV gamma? Verify this numerically."
   ]
  },
  {
   "cell_type": "code",
   "execution_count": 2,
   "metadata": {},
   "outputs": [
    {
     "name": "stdout",
     "output_type": "stream",
     "text": [
      "(a) The final photon energy for a 6MeV gamma ray is 2.451e-01 MeV.\n",
      "(b1)If we substitue 1/E = 0 in the equation above, considering E >> E0, then we get this: 1/E = (2/E0)^-1. This is exactly the same as E = E0/2 if E >> E0\n",
      "(b2) By careful use of substitution, we can show that if E << E0, then (E-E_prime)/E = 2E/E0 is true.\n",
      "(c) The best approximation for a 6MeV gamma ray is 2.555e-01 MeV.\n"
     ]
    }
   ],
   "source": [
    "#This code is for part A\n",
    "#In the problem we are given the value of E' and the scattering angle θ is 180 degrees.\n",
    "#Solving for E' using the values of E = 6MeV and E0 = 0.511MeV yields the equation below:\n",
    "E = 6\n",
    "E_initial = 0.511\n",
    "E_prime = 1/((1/E)+(2/E_initial))\n",
    "print('(a)','The final photon energy for a 6MeV gamma ray is {:.3e} MeV.'.format(E_prime))\n",
    "\n",
    "#This code is for part B\n",
    "#First, we need to show that if E >> E0 then E' is around E0/2\n",
    "#If we substitue 1/E = 0 in the equation above, considering E >> E0, then we get this: 1/E' = (2/E0)^-1\n",
    "#This is exactly the same as E' = E0/2 if E >> E0\n",
    "print('(b1)''If we substitue 1/E = 0 in the equation above, considering E >> E0, then we get this: 1/E = (2/E0)^-1. This is exactly the same as E = E0/2 if E >> E0')\n",
    "#Secondly, if E << E0, then (E-E')/E is around 2E/E0\n",
    "#The same math can now apply. Assume E0 = 0. Now the equation looks like this: 1/E' = (1/E)^-1 so E' = E\n",
    "#We can substitute this into the original equation: 1/E' - 1/E = 2/E0 --> (E - E')/EE' = 2/E0\n",
    "#Multiplying both sides by E yields (E-E')/E = 2E/E0\n",
    "print('(b2)','By careful use of substitution, we can show that if E << E0, then (E-E_prime)/E = 2E/E0 is true.')\n",
    "\n",
    "#This code is for part C.\n",
    "#We should use the formula 1/E + 1/E' = (1/E0)*(1-cos(θ))\n",
    "#We know θ is 180 degrees, which simplifies the equation to: 1/E + 1/E' = 2/E0\n",
    "#Using an exponent of -1 on both sides yields E + E' = E0/2, but this is just for a mental note.\n",
    "#The approximation we should use here is E >> E0, which would make 1/E << 1/E0, which effecrively eliminates 1/E or E.\n",
    "#(0) + 1/E' = 2/E0 and solving for E' yields that E' = E0/2\n",
    "New_E_prime = E_initial/2\n",
    "print('(c)','The best approximation for a 6MeV gamma ray is {:.3e} MeV.'.format(New_E_prime))"
   ]
  },
  {
   "cell_type": "markdown",
   "metadata": {},
   "source": [
    "### Exercise 5.7\n",
    "The range of beta paricles of maximum energy greater than 0.8 MeV is given roughly by the relation\n",
    "$$ R[cm] = \\dfrac{0.55E[MeV] - 0.16}{\\rho[g/cm^3]}$$\n",
    "(a) using this formula, find what thickness of aluminum sheet (density 2.7 g/cm$^3$) is enough to stop the betas from phosphorus-32 (use Table 3.2).  \n",
    "(b) Repeat the calculation using the Katz-Penfold relation of equation 5.2"
   ]
  },
  {
   "cell_type": "code",
   "execution_count": 12,
   "metadata": {},
   "outputs": [
    {
     "name": "stdout",
     "output_type": "stream",
     "text": [
      "(a) The necessary thickness of the aluminum sheet to stop the betas is 2.893e-01cm.\n",
      "(b) Using the Katz-Penfold Equation yields a density of 7.907e-01g/cm^3.\n"
     ]
    }
   ],
   "source": [
    "#This code is for part A\n",
    "#From Table 3.2 in the textbook, we can see that the MeV value for Phosphorus is 1.711 MeV\n",
    "#We also know the density is 2.7g/cm^3\n",
    "MeV = 1.711\n",
    "ρ = 2.7\n",
    "R = (0.55*MeV-0.16)/ρ\n",
    "print('(a)','The necessary thickness of the aluminum sheet to stop the betas is {:.3e}cm.'.format(R))\n",
    "\n",
    "#This code is for part B\n",
    "#The Katz-Penfold equation tells us two different relations:\n",
    "#{0.412E^(1.265-0.0954ln(E))   0.01 is greater than or equal to E which is greater than or equal to 2.5 MeV}\n",
    "#{0.530E - 0.107               2.5 is greater than or equal to E which is greater than or equal to 20 MeV}\n",
    "#Because the Phosphorus beta produces an MeV of 1.711, we know this falls into the FIRST relation.\n",
    "Exponent = 1.265-0.0954*math.log(MeV)\n",
    "KatzPenfold_R = 0.412*(MeV**Exponent)\n",
    "print('(b)','Using the Katz-Penfold Equation yields a density of {:.3e}g/cm^3.'.format(KatzPenfold_R))"
   ]
  },
  {
   "cell_type": "markdown",
   "metadata": {},
   "source": [
    "### Exercise 5.12\n",
    "Find the maximum and minimum photon energies of 50 keV X-rays passing through a thin aluminum foil and making no more than one collision.\n",
    "\n",
    "Hint: if using math.cos, make sure to convert the angle to radians"
   ]
  },
  {
   "cell_type": "code",
   "execution_count": 1,
   "metadata": {},
   "outputs": [
    {
     "name": "stdout",
     "output_type": "stream",
     "text": [
      "The minimum photon energy is 4.180e+01.\n",
      "The maximum photon energy is 5.000e+01.\n"
     ]
    }
   ],
   "source": [
    "#We know the equation needed for this problem is 1/E' = (1/mc^2)(1-cosθ) +1/E\n",
    "#m here is equal to the mass of the electron and c is the speed of light.\n",
    "#We are also given a value of the electron's rest energy which is 0.51MeV *1e3 to convert to keV\n",
    "E = ((1/(0.51e3))*(1+1) + 1/50)\n",
    "Emin = E**-1\n",
    "print(\"The minimum photon energy is {:.3e}.\".format(Emin))\n",
    "\n",
    "E_max = E = 1/50\n",
    "Emax = E_max**-1\n",
    "print(\"The maximum photon energy is {:.3e}.\".format(Emax))"
   ]
  },
  {
   "cell_type": "markdown",
   "metadata": {},
   "source": [
    "### Extra Credit: Exercise 5.9\n",
    "\n",
    "Calculate the energy gain by an electron struck head-on by an alpha particle of energy 4 MeV; see\n",
    "Exercise 4.19. How many such collisions would it take to reduce the alpha particle energy to\n",
    "1 MeV?"
   ]
  },
  {
   "cell_type": "code",
   "execution_count": 18,
   "metadata": {},
   "outputs": [
    {
     "name": "stdout",
     "output_type": "stream",
     "text": [
      "For a 4MeV alpha particle, the gain of energy is 2.192e-03MeV per collision.\n",
      "For a 4MeV alpha particle, the loss of energy is 1.370e-03MeV per collision.\n",
      "The amount of collsions needed to reduce the energy of the alpha particle from 4 to 1 MeV is 2.190e+03 collisions.\n"
     ]
    }
   ],
   "source": [
    "#From Exercise 4.19, we know that v2 = 2m1u1/(m1 + m2)\n",
    "#We can plug this into a kinetic energy equation.\n",
    "# E = (1/2)m2v2^2 = (m2/2)*(2*m1*u1/(m1 + m2))^2\n",
    "#This simplifies to E = (m1u1^2)*(4m1m2/(m1 + m2)^2)\n",
    "\n",
    "#The energy of an alpha particle is given by Ea = 0.5m1u1^2\n",
    "#If we substitute 0.5m1u1^2 for Ea, then we get the equation E = Ea*C where C is the number of collisions.\n",
    "#We can assume here that C = 2m1m2/(m1 + m2)^2 which \n",
    "#Now we can define some variables.\n",
    "\n",
    "m1 = 4 #The theoretical mass of an alpha particle or Helium-4 nucleusin amu.\n",
    "m2 = 5.48e-4 #The theoretical mass of an electron in amu.\n",
    "\n",
    "#We can see that m1 >> m2, so we can ignore m2/m1\n",
    "C = 4*m2/m1\n",
    "\n",
    "#Now we can multiply the collisions by 4MeV to get our alpha energy gain.\n",
    "Alpha_E_gain = 4*C\n",
    "print('For a 4MeV alpha particle, the gain of energy is {:.3e}MeV per collision.'.format(Alpha_E_gain))\n",
    "#Secondly we can calculate the energy loss per collision by using the average alpha energy loss of 2.5MeV.\n",
    "Alpha_E_loss = 2.5*C\n",
    "print('For a 4MeV alpha particle, the loss of energy is {:.3e}MeV per collision.'.format(Alpha_E_loss))\n",
    "\n",
    "#Lets find the change in energy,\n",
    "ΔE = 4-1\n",
    "#To find the amount of collisions, we can just divide the change in energy ΔE by the alpha energy loss per collision.\n",
    "Collisions_Needed = ΔE/Alpha_E_loss\n",
    "print('The amount of collsions needed to reduce the energy of the alpha particle from 4 to 1 MeV is {:.3e} collisions.'.format(Collisions_Needed))"
   ]
  }
 ],
 "metadata": {
  "anaconda-cloud": {},
  "kernelspec": {
   "display_name": "Python 3",
   "language": "python",
   "name": "python3"
  },
  "language_info": {
   "codemirror_mode": {
    "name": "ipython",
    "version": 3
   },
   "file_extension": ".py",
   "mimetype": "text/x-python",
   "name": "python",
   "nbconvert_exporter": "python",
   "pygments_lexer": "ipython3",
   "version": "3.8.8"
  }
 },
 "nbformat": 4,
 "nbformat_minor": 1
}
