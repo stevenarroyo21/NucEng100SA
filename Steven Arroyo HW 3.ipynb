{
 "cells": [
  {
   "cell_type": "markdown",
   "id": "9c01f746",
   "metadata": {},
   "source": [
    "## NE 100/200M - Introduction to Nuclear Energy and Technology\n",
    "# Homework 3\n",
    "##### Due September 16, 2022\n",
    "All exercises are from the Murray & Holbert textbook and are numbered accordingly."
   ]
  },
  {
   "cell_type": "code",
   "execution_count": 1,
   "id": "ad220bca",
   "metadata": {},
   "outputs": [],
   "source": [
    "# Uploading all the packages that will be used\n",
    "import scipy.constants as constants\n",
    "import math"
   ]
  },
  {
   "cell_type": "markdown",
   "id": "1f5a23e2",
   "metadata": {},
   "source": [
    "### Exercise 6.3\n",
    "\n",
    "The total kinetic energy of two fission fragments is 166 MeV.<br>\n",
    "- a) Assuming that the momenta of the fission neutrons are negligible, what are the energies of each fragment if the mass ratio is 3/2? <br>\n",
    "- b) What are the two mass numbers if three neutrons were released in U-235 fission? <br>\n",
    "- c) What are the velocities of the fragments? <br>\n",
    "- d) What is the ratio of the momentum of a fission fragment to that of a fission neutron?"
   ]
  },
  {
   "cell_type": "code",
   "execution_count": 2,
   "id": "cf433c10",
   "metadata": {},
   "outputs": [
    {
     "name": "stdout",
     "output_type": "stream",
     "text": [
      "(a1) The energy of the first fragment is 6.640e+01 MeV.\n",
      "(a2) The energy of the second fragment is 9.960e+01 MeV.\n",
      "(b1) The second mass number is 9.280e+01, which can be rounded to 93.\n",
      "(b2) The first mass number is 1.392e+02, which can be rounded to 140.\n",
      "(c1) The velocity of the first fragment is 9.589e+06m/s.\n",
      "(c2) The velocity of the second fragment is 1.438e+07m/s.\n",
      "(d) The ratio of the momentum of a fission fragment to a fission neutron would be non-existent or go to infinity.\n"
     ]
    }
   ],
   "source": [
    "#This is the code for part A\n",
    "#We need to find the energies of each fragment when the mass ratio is 3/2.\n",
    "#Some knowns are that E1 + E2, the energies of both fragments, equal 166MeV.\n",
    "#If momenta is conserved, then we can create this equation: ρ1 = ρ2\n",
    "#Our relationship between E and ρ is --> E = (P^2)/2m, rearranging this for P = sqrt(2mE)\n",
    "#Now that we know this, we can create a ratio for our two separate energies, E1 and E2.\n",
    "#sqrt(2*m_1*E_1) = sqrt(2*m_2*E_2) and solving for our E ratio yields: E_2/E_1 = m_1/m_2.\n",
    "#We know the ratio of masses is 3/2, so we can substitute that value in for our mass ratiio: E_2/E_1 = 3/2\n",
    "#E_2 = 1.5*E_1\n",
    "#Now we can solve for E_1 by substituting 1.5E_1 for E_2.\n",
    "#1.5E_1 + E_1 = 166 MeV, so E_1 = 166MeV/2.5\n",
    "E_1 = 166/2.5\n",
    "print('(a1)','The energy of the first fragment is {:.3e} MeV.'.format(E_1))\n",
    "#Now subtract this value from 166 MeV to get our E_2 value.\n",
    "E_2 = 166-E_1\n",
    "print('(a2)','The energy of the second fragment is {:.3e} MeV.'.format(E_2))\n",
    "\n",
    "#This is the code for part B\n",
    "#We know that 3 neutrons are released in a U-235 fission.\n",
    "#Because we know the mass ratio, the masses should be valued as follows: m1 = 1.5*m2\n",
    "#We can say that m1 + m2 = 235 - 3 = 232 from the information we are given.\n",
    "#At this point we can subsitute m1 = 1.5*m2 into the equation --> 1.5*m2 + m2 = 2.5*m2 = 232\n",
    "m2 = 232/2.5\n",
    "print('(b1)','The second mass number is {:.3e}, which can be rounded to 93.'.format(m2))\n",
    "#Then we can subtract this value from 232 to get the mass number m1.\n",
    "m1 = 232-m2\n",
    "print('(b2)','The first mass number is {:.3e}, which can be rounded to 140.'.format(m1))\n",
    "\n",
    "#This is the code for part C\n",
    "#Now that we have the energies and masses of the fragments, we can solve for velocity using the Kinetic Energy equation.\n",
    "#We also need to use proper conversions for a more accurate measurement of velocities.\n",
    "v1 = math.sqrt((2*E_1*(1e6)*(1.6e-19))/(m1*(1.66e-27)))\n",
    "print('(c1)','The velocity of the first fragment is {:.3e}m/s.'.format(v1))\n",
    "v2 = math.sqrt((2*E_2*(1e6)*(1.6e-19))/(m2*(1.66e-27)))\n",
    "print('(c2)','The velocity of the second fragment is {:.3e}m/s.'.format(v2))\n",
    "\n",
    "#This is the code for part D\n",
    "#From what the book says, the ratio should be ρ_fragment1/ρ_neutron, but ρ_neutron should equal zero.\n",
    "#So with ρ_fragment1/ρ_neutron = ρ_fragment1/0, then the system would be non-existent or go to infinity.\n",
    "print('(d)','The ratio of the momentum of a fission fragment to a fission neutron would be non-existent or go to infinity.')"
   ]
  },
  {
   "cell_type": "markdown",
   "id": "9afb8ff3",
   "metadata": {},
   "source": [
    "### Exercise 6.4\n",
    "\n",
    "Calculate the energy yield from the following reactions\n",
    "\n",
    "(a)$$  ^{235}_{\\;92}U + ^1_0n \\rightarrow ^{92}_{37}Rb + ^{140}_{\\;55}Cs+4^1_0n + Q$$\n",
    "(b)$$  ^{235}_{\\;92}U + ^1_0n \\rightarrow ^{94}_{38}Sr + ^{140}_{\\;54}Xe+2^1_0n + Q$$\n",
    "(c)$$  ^{233}_{\\;92}U + ^1_0n \\rightarrow ^{94}_{38}Sr + ^{137}_{\\;54}Xe+3^1_0n + Q$$\n",
    "(d)$$  ^{239}_{\\;94}Pu + ^1_0n \\rightarrow ^{103}_{40}Zr + ^{134}_{\\;54}Xe+3^1_0n + Q$$"
   ]
  },
  {
   "cell_type": "code",
   "execution_count": 3,
   "id": "1ec27a9b",
   "metadata": {},
   "outputs": [
    {
     "name": "stdout",
     "output_type": "stream",
     "text": [
      "(a) The energy yield for this reaction is 1.686e+02MeV. This rounds to 168.6MeV\n",
      "(b) The energy yield for this reaction is 1.847e+02MeV. This rounds to 184.7MeV\n",
      "(c) The energy yield for this reaction is 1.820e+02MeV. This rounds to 182.0MeV\n",
      "(d) The energy yield for this reaction is 1.889e+02MeV. This rounds to 188.9MeV\n"
     ]
    }
   ],
   "source": [
    "#Note 1: The energy yield can be found by using the formula below-->\n",
    "#E = ((m_A + m_n)-(m_B + m_C + Nm_n))c^2 where m_A, m_B, and m_C are the elements' mass in the reaction, and m_n is the mass of the neutron. c is the speed if light and N is the number of neutrons in the products.\n",
    "#Note 2: Keep all units in amu for more accuracy.\n",
    "m_n = 1.008665\n",
    "#Note 3: c^2 can be expressed in MeV\n",
    "c = 931.5\n",
    "\n",
    "#This code is for part A\n",
    "m_U235 = 235.04395\n",
    "m_Rb92 = 91.9197254\n",
    "m_Cs140 = 139.917283305\n",
    "EnergyA = ((m_U235 + m_n)-(m_Rb92 + m_Cs140 + (4*m_n)))*c\n",
    "print('(a)','The energy yield for this reaction is {:.3e}MeV. This rounds to 168.6MeV'.format(EnergyA))\n",
    "\n",
    "#This code is for part B\n",
    "m_Sr94 = 93.9153599\n",
    "m_Xe140 = 139.9216357\n",
    "EnergyB = ((m_U235 + m_n)-(m_Sr94 + m_Xe140 + (2*m_n)))*c\n",
    "print('(b)','The energy yield for this reaction is {:.3e}MeV. This rounds to 184.7MeV'.format(EnergyB))\n",
    "\n",
    "#This code is for part C\n",
    "m_U233 = 233.0396282\n",
    "m_Xe137 = 136.9115629\n",
    "EnergyC = ((m_U233 + m_n)-(m_Sr94 + m_Xe137 + (3*m_n)))*c\n",
    "print('(c)','The energy yield for this reaction is {:.3e}MeV. This rounds to 182.0MeV'.format(EnergyC))\n",
    "\n",
    "#This code is for part D\n",
    "m_Pu239 = 239.05216338\n",
    "m_Zr103 = 102.9265971\n",
    "m_Xe134 = 133.9053945\n",
    "EnergyD = ((m_Pu239 + m_n)-(m_Zr103 + m_Xe134 + (3*m_n)))*c\n",
    "print('(d)','The energy yield for this reaction is {:.3e}MeV. This rounds to 188.9MeV'.format(EnergyD))"
   ]
  },
  {
   "cell_type": "markdown",
   "id": "a7877a3e",
   "metadata": {},
   "source": [
    "### Exercise 6.5\n",
    "\n",
    " Compute the reproduction factor for \n",
    " - (a) U-233\n",
    " - (b) Pu-239"
   ]
  },
  {
   "cell_type": "code",
   "execution_count": 4,
   "id": "446c4515",
   "metadata": {},
   "outputs": [
    {
     "name": "stdout",
     "output_type": "stream",
     "text": [
      "(a) The reproduction factor for U-233 is 2.300e+00.\n",
      "(b) The reproduction factor for Pu-239 is 2.133e+00.\n"
     ]
    }
   ],
   "source": [
    "#From the book, we know that the reproduction factor equation is ƞ = υ*σf/σa\n",
    "#σf is the fission cross section, σa is the absorption cross section, and υ is the number of neutrons present.\n",
    "#We also know that σa = σf + σɣ\n",
    "#Substituting this into the equation yields: ƞ = υ*σf/(σf + σɣ)\n",
    "\n",
    "#This code is for part A\n",
    "σfU233 = 529\n",
    "σɣU233 = 46\n",
    "υU233 = 2.5\n",
    "ƞ_U233 = (υU233*σfU233)/(σfU233 + σɣU233)\n",
    "print('(a)','The reproduction factor for U-233 is {:.3e}.'.format(ƞ_U233))\n",
    "#Repeat this for part B\n",
    "\n",
    "#This code is for part B\n",
    "σfPu239 = 748\n",
    "σɣPu239 = 269\n",
    "υPu239 = 2.9\n",
    "ƞ_Pu239 = (υPu239*σfPu239)/(σfPu239 + σɣPu239)\n",
    "print('(b)','The reproduction factor for Pu-239 is {:.3e}.'.format(ƞ_Pu239))"
   ]
  },
  {
   "cell_type": "markdown",
   "id": "f817595f",
   "metadata": {},
   "source": [
    "### Exercise 6.8\n",
    "\n",
    "Calculate the number of kilograms of coal, oil, and natural gas that must be burned each day\n",
    "to operate a 3000-MW thermal power plant, which otherwise consumes 3.9 kg/d of U-235.\n",
    "The heats of combustion of the three fuels (in kJ/g) are, respectively, 32, 44, and 50."
   ]
  },
  {
   "cell_type": "code",
   "execution_count": 5,
   "id": "5a3c17ae",
   "metadata": {},
   "outputs": [
    {
     "name": "stdout",
     "output_type": "stream",
     "text": [
      "The amount of coal used each day is 8.100e+06 kg/d.\n",
      "The amount of coal used each day is 5.891e+06 kg/d.\n",
      "The amount of coal used each day is 5.184e+06 kg/d.\n"
     ]
    }
   ],
   "source": [
    "#We know that this powerplant produces 3000MW for every 3.9kg/d of fuel used.\n",
    "#To find the amount of coal used, we would need to find the mass. \n",
    "#We know, respectively, that the heat of combustion for coal is 32kJ/g\n",
    "\n",
    "coalmass = ((3000*1e6*(1*24*60*60))/(32e3))*(1e-3) #We need this value in units of kilograms per day.\n",
    "print('The amount of coal used each day is {:.3e} kg/d.'.format(coalmass))\n",
    "\n",
    "#Repeat this process for Oil and Natural Gas\n",
    "\n",
    "oilmass = ((3000*1e6*(1*24*60*60))/(44e3))*(1e-3) #We need this value in units of kilograms per day.\n",
    "print('The amount of coal used each day is {:.3e} kg/d.'.format(oilmass))\n",
    "\n",
    "naturalgasmass = ((3000*1e6*(1*24*60*60))/(50e3))*(1e-3) #We need this value in units of kilograms per day.\n",
    "print('The amount of coal used each day is {:.3e} kg/d.'.format(naturalgasmass))"
   ]
  },
  {
   "cell_type": "markdown",
   "id": "3c89ecb7",
   "metadata": {},
   "source": [
    "### Exercise 6.10\n",
    "\n",
    "Determine the consumption rate (g/(MW d)) for fuels of (a) U-233 and (b) Pu-239."
   ]
  },
  {
   "cell_type": "code",
   "execution_count": 6,
   "id": "621e8e2c",
   "metadata": {},
   "outputs": [
    {
     "name": "stdout",
     "output_type": "stream",
     "text": [
      "(a) The consumption rate of U-233 is 1.196e+00 g/MWt*d.\n",
      "(b) The consumption rate of Pu-239 is 1.534e+00 g/MWt*d.\n"
     ]
    }
   ],
   "source": [
    "#From the book, the consumption rate equation is:\n",
    "#CR = (2.84e21)(σ_a/σ_f)(M/NA)\n",
    "#From Exercise 6.5, we know what σ_f and σ_a are, and that σ_a = σf + σɣ\n",
    "#M is the atomic mass and N is Avogadro's Number\n",
    "NA = 6.022e23\n",
    "\n",
    "#This code is for part A\n",
    "σfU233 = 529\n",
    "σɣU233 = 46\n",
    "M_U233 = 233.0396282\n",
    "CR_U233 = (2.843e21)*((σfU233 + σɣU233)/σfU233)*(M_U233/NA)\n",
    "print('(a)','The consumption rate of U-233 is {:.3e} g/MWt*d.'.format(CR_U233))\n",
    "\n",
    "#This code is for part B\n",
    "σfPu239 = 748\n",
    "σɣPu239 = 269\n",
    "M_Pu239 = 239.05216338\n",
    "CR_Pu239 = (2.843e21)*((σfPu239 + σɣPu239)/σfPu239)*(M_Pu239/NA)\n",
    "print('(b)','The consumption rate of Pu-239 is {:.3e} g/MWt*d.'.format(CR_Pu239))"
   ]
  },
  {
   "cell_type": "markdown",
   "id": "5251a9fe",
   "metadata": {},
   "source": [
    "### Exercise 7.2\n",
    "\n",
    "Verify the energy yield for the (a) D-$^3$He and (b) both D-D reactions."
   ]
  },
  {
   "cell_type": "code",
   "execution_count": 15,
   "id": "fc90670b",
   "metadata": {},
   "outputs": [
    {
     "name": "stdout",
     "output_type": "stream",
     "text": [
      "(a) The energy yield for a D-He3 reaction is 1.835e+01MeV.\n",
      "(b) The energy yield for the first D-He3 reaction is 4.032e+00MeV.\n",
      "(b) The energy yield for the second D-He3 reaction is 3.269e+00MeV.\n"
     ]
    }
   ],
   "source": [
    "#We know that the equation used here is the Q-value equation: Q = [MA + MB - MC - MD]c^2\n",
    "#M represents the atomic mass (in amu) of each of the respective elements of A, B, C, and D.\n",
    "#c^2 is the speed of light which we can convert to MeV = 931.5 MeV\n",
    "\n",
    "#This code is for part A\n",
    "#D-He3 reaction: M_H2 + M_He3 - M_He4 - M_H1\n",
    "M_H2 = 2.01410178\n",
    "M_He3 = 3.016029\n",
    "M_He4 = 4.002603\n",
    "M_H1 = 1.007825\n",
    "Q_part_A = (M_H2 + M_He3 - M_He4 - M_H1)*931.5\n",
    "print('(a)','The energy yield for a D-He3 reaction is {:.3e}MeV.'.format(Q_part_A))\n",
    "\n",
    "#This code is for part B\n",
    "#First D-D reaction: M_H2 + M_H2 - M_H3 - M_H1\n",
    "M_H3 = 3.01605\n",
    "Q_part_B1 = (M_H2 + M_H2 - M_H3 - M_H1)*931.5\n",
    "print('(b)','The energy yield for the first D-He3 reaction is {:.3e}MeV.'.format(Q_part_B1))\n",
    "#Second D-D reaction: M_H2 + M_H2 - M_He3 - Mn\n",
    "Mn = 1.008665\n",
    "Q_part_B2 = (M_H2 + M_H2 - M_He3 - Mn)*931.5\n",
    "print('(b)','The energy yield for the second D-He3 reaction is {:.3e}MeV.'.format(Q_part_B2))"
   ]
  },
  {
   "cell_type": "markdown",
   "id": "8cf69da5",
   "metadata": {},
   "source": [
    "### Exercise 7.3\n",
    "\n",
    "To obtain 3,000 MW of power from a fusion reactor, in which the effective reaction is $2^2_1H \\rightarrow ^4_2He + 23.85 \\textrm{MeV}$, how many grams per day of deuterium would be needed?If all of the deuterium could be extracted from water, how many kilograms of water would have to be processed per day?"
   ]
  },
  {
   "cell_type": "code",
   "execution_count": 7,
   "id": "bf21f42d",
   "metadata": {},
   "outputs": [
    {
     "name": "stdout",
     "output_type": "stream",
     "text": [
      "The number of fusions occuring here per day is 6.792e+25.\n",
      "The amount of deuterium needed per day would be 4.543e+02g.\n",
      "The amount of water processed per day would be 1.765e+04kg.\n"
     ]
    }
   ],
   "source": [
    "#First we need to figure out how many fusion reactions there are.\n",
    "#In the book, we can calculate this using the equation N = P/E_fusion, P is the power and E_fusion is the fusion energy.\n",
    "P = 3000 #in MW, s we need to get this into Joules\n",
    "E_fusion = 23.85 #in MeV, so we need to get this into Joules\n",
    "N = (P*1e6*(1*24*60*60))/(E_fusion*(1.6e-13))\n",
    "print('The number of fusions occuring here per day is {:.3e}.'.format(N))\n",
    "\n",
    "#Now that we know the amount of fusions, we can now calculate the mass of the deuterium.\n",
    "#The equation from the book tells us that the mass is: m = (2N)M/NA\n",
    "#M is the atomic mass, NA is Avogadro's number, and N is what we previously calculated!\n",
    "M = 2.014 #in amu\n",
    "NA = 6.022e23\n",
    "deuterium_mass = (((2*N)*M)/NA)\n",
    "print('The amount of deuterium needed per day would be {:.3e}g.'.format(deuterium_mass))\n",
    "\n",
    "#Now we need to find the amount of water would be needed in kilograms.\n",
    "#The formula is given as m = N*M/A*NA, where A is the abundance.\n",
    "#the formula for this is similar to our deuterium calculation, but now we need to divide by the abundance of deuterium in water.\n",
    "#The abundance of deuterium in water is 0.0115%, which is 0.000115 in a non-percentage value.\n",
    "A = 0.000115\n",
    "M_water = 18 #in g/mol\n",
    "water_mass = ((N*M_water)/(A*NA))*(1e-3)\n",
    "print('The amount of water processed per day would be {:.3e}kg.'.format(water_mass))"
   ]
  },
  {
   "cell_type": "markdown",
   "id": "ffd99d6a",
   "metadata": {},
   "source": [
    "### Exercise 7.4\n",
    "\n",
    "The reaction rate relation $nvN\\sigma$ can be used to estimate the power density of a fusion plasma.\n",
    "- (a) Find the speed $v_D$ of 100 keV deuterons.\n",
    "- (b) Assuming that deuterons serve as both target and projectile, such that the effective $v$ is $v_D/2$, find what particle number density would be needed to achieve a power density of 1 kW/cm$^3$."
   ]
  },
  {
   "cell_type": "code",
   "execution_count": 8,
   "id": "580916dc",
   "metadata": {},
   "outputs": [
    {
     "name": "stdout",
     "output_type": "stream",
     "text": [
      "(a) The speed for 100keV deuterons is 3.095e+06 m/s.\n",
      "(b) The particle number density is 2.500e+17/cm^3.\n"
     ]
    }
   ],
   "source": [
    "#This code is for part A\n",
    "#To find the speed 𝑣𝐷, we can use the kinetic energy formula and rearrange it to solve for 𝑣𝐷.\n",
    "#But first we need to find the Kinetic Energy of the deuteron itself.\n",
    "mass𝐷 = 3.34e-27\n",
    "KE = 100*(1.6e-16)\n",
    "𝑣𝐷 = math.sqrt((2*KE)/mass𝐷)\n",
    "print('(a)','The speed for 100keV deuterons is {:.3e} m/s.'.format(𝑣𝐷))\n",
    "\n",
    "#This code is for part B\n",
    "#The power density formula is given as Pρ = nρ*Et, where nρ is the particle density and Et is the energy for each second.\n",
    "#Rearrange this to form this equation: nρ = Pρ/Et\n",
    "#The value of the power density is given:\n",
    "Pρ = 1 #in KW/cm^3\n",
    "#We are also given that 𝑣 is effectively 𝑣𝐷/2, so we can plug this into the KE equation as shown:\n",
    "Et = 0.5*mass𝐷*((𝑣𝐷/2)**2)\n",
    "#Now we can plug this in to find the particle number density formula we derived earlier.\n",
    "nρ = (Pρ/Et)*(1e3) #For unit conversions, 1e3 is needed.\n",
    "print('(b)','The particle number density is {:.3e}/cm^3.'.format(nρ))"
   ]
  }
 ],
 "metadata": {
  "kernelspec": {
   "display_name": "Python 3",
   "language": "python",
   "name": "python3"
  },
  "language_info": {
   "codemirror_mode": {
    "name": "ipython",
    "version": 3
   },
   "file_extension": ".py",
   "mimetype": "text/x-python",
   "name": "python",
   "nbconvert_exporter": "python",
   "pygments_lexer": "ipython3",
   "version": "3.8.8"
  }
 },
 "nbformat": 4,
 "nbformat_minor": 5
}
