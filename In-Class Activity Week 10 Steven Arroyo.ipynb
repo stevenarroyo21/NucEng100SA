{
 "cells": [
  {
   "cell_type": "code",
   "execution_count": 10,
   "id": "fb03bf8f",
   "metadata": {},
   "outputs": [],
   "source": [
    "import math as math\n",
    "import scipy.constants as const"
   ]
  },
  {
   "cell_type": "markdown",
   "id": "3b9aecf6",
   "metadata": {},
   "source": [
    "### Exercise 10.7\n",
    "\n",
    " A mixture of radiation and radioactivity units is used in an article on high natural doses\n",
    "(Ahmed, 1991), as follows: \n",
    "- (a) average radiation exposure in the world, $2.4$ mSv/y; \n",
    "- (b) average radiation exposure in southwest India, $10$ mGy/y; \n",
    "- (c) high outdoor dose in Iran, $9$ mrem/h;\n",
    "- (d) radon concentration at high altitudes in Iran, $37$ kBq/$m^3$;\n",
    "- (e) radon concentration in Czech houses, $10$ kBq/$m^3$; and \n",
    "- (f) high outdoor dose in Poland, $190$ nGy/h. \n",
    "\n",
    "Convert each of these numbers into traditional units mrad/y, mrem/y, or pCi/L."
   ]
  },
  {
   "cell_type": "code",
   "execution_count": 8,
   "id": "fcc1b7ab",
   "metadata": {},
   "outputs": [
    {
     "name": "stdout",
     "output_type": "stream",
     "text": [
      "(a) world average = 240.0 mrem/y\n",
      "(b) southwest India average = 1000 mrad/y\n",
      "(c) high Iran dose = 78894.0 mrem/y\n",
      "(d) high Iran concentration = 1.369e-06 pCi/L\n",
      "(e) SKIPPED*\n",
      "(f) Poland high = 166.554 mrad/y\n"
     ]
    }
   ],
   "source": [
    "#(a) mSv --> 100 mrem, so Sv --> 100 rem\n",
    "w_ave = 2.4*100\n",
    "print(\"(a) world average = {} mrem/y\".format(w_ave))\n",
    "\n",
    "#(b) mGy --> 100 mrad, so Gy --> 100 rad\n",
    "sI_ave = 10*100\n",
    "print(\"(b) southwest India average = {} mrad/y\".format(sI_ave))\n",
    "\n",
    "#(c) mrem/h --> mrem/y\n",
    "Iran_high = 9*24*365.25\n",
    "print(\"(c) high Iran dose = {} mrem/y\".format(Iran_high))\n",
    "\n",
    "#(d) kBq/m^3 --> pCi/L (kB --> pCi is 3.7e-5) (m^3 --> L is 0.001L)\n",
    "Iran_high_c = 37*3.7e-5*0.001\n",
    "print(\"(d) high Iran concentration = {} pCi/L\".format(Iran_high_c))\n",
    "\n",
    "#(e) SKIPPED*\n",
    "print(\"(e) SKIPPED*\")\n",
    "\n",
    "#(f) nGy --> mrad/y\n",
    "Poland = 190*1e-6*24*365.25*100\n",
    "print(\"(f) Poland high = {} mrad/y\".format(Poland))"
   ]
  },
  {
   "cell_type": "markdown",
   "id": "12e17575",
   "metadata": {},
   "source": [
    "#### How would we determine dose from Radon given the activity stated in part (d)?"
   ]
  },
  {
   "cell_type": "markdown",
   "id": "c82314f9",
   "metadata": {},
   "source": [
    "Activity = decays/s\n",
    "\n",
    "Dose = Gray/s = Energy absorbed/kg\n",
    "\n",
    "Radon decay: $\\alpha \\space (5.48 \\text{MeV})$\n",
    "\n",
    "mass energy is absorbed in: lung which is about 1kg"
   ]
  },
  {
   "cell_type": "code",
   "execution_count": 12,
   "id": "07ca84d0",
   "metadata": {},
   "outputs": [
    {
     "name": "stdout",
     "output_type": "stream",
     "text": [
      "3.2485733430983997e-11 J/s/kg/L\n"
     ]
    }
   ],
   "source": [
    "#Iran: 37 kBq/m^3\n",
    "dose_Gy = 37e3*5.48e6*const.eV*0.001/1 #J/s/kg/L\n",
    "print(dose_Gy, \"J/s/kg/L\")\n",
    "# to Sv dose --> QF = 20"
   ]
  },
  {
   "cell_type": "markdown",
   "id": "fa095641",
   "metadata": {},
   "source": [
    "### Exercise 10.10\n",
    "\n",
    "(a) Dose rate estimates for a mission to Mars consist of 1.9mSv/d during each 180-d\n",
    "outbound and return flight, and 0.7mSv/d while on Mars for nearly 2 y. What fraction or\n",
    "multiple of the annual NRC dose limits do the astronauts receive during total flight time\n",
    "and while exploring the planet each year? \n",
    "\n",
    "(b) How many days before the occupational dose\n",
    "limit is reached on the International Space Station where the dose rate is approximately\n",
    "0.25mSv/d?"
   ]
  },
  {
   "cell_type": "markdown",
   "id": "7b819ac6",
   "metadata": {},
   "source": [
    "#### Solution\n",
    "\n",
    "Occupation limits: 50 mSv/y"
   ]
  },
  {
   "cell_type": "code",
   "execution_count": 24,
   "id": "f9937d56",
   "metadata": {},
   "outputs": [
    {
     "name": "stdout",
     "output_type": "stream",
     "text": [
      "684.0 mSv from flight\n",
      "511.34999999999997 mSv from stay\n",
      "1195.35 mSv\n",
      "(a) 400.3682599724897 mSv/y, this is 8.01 times the occupational limit\n",
      "(b) You can only stay 200 days\n"
     ]
    }
   ],
   "source": [
    "#This code is for part A\n",
    "Flight_dose = 1.9*180*2\n",
    "mars_dose = 0.7*365.25*2\n",
    "total_dose = Flight_dose + mars_dose\n",
    "print(Flight_dose, \"mSv from flight\")\n",
    "print(mars_dose, \"mSv from stay\")\n",
    "print(total_dose, \"mSv\")\n",
    "\n",
    "travel_time = 2 + 360/365.25\n",
    "total_dose_yr = total_dose/travel_time\n",
    "print(\"(a)\", total_dose_yr, \"mSv/y,\", \"this is {:.2f} times the occupational limit\".format(total_dose_yr/50))\n",
    "\n",
    "#This code is for part B\n",
    "days = 50/0.25\n",
    "print(\"(b) You can only stay {:.0f} days\".format(days))"
   ]
  },
  {
   "cell_type": "markdown",
   "id": "0443a819",
   "metadata": {},
   "source": [
    "### Exercise 10.11\n",
    "\n",
    " Calculate the temperature rise due to a dose of 4 Gy (400 rad) in water."
   ]
  },
  {
   "cell_type": "markdown",
   "id": "e519c0eb",
   "metadata": {},
   "source": [
    "$Q = m c_p \\Delta T$\n",
    "\n",
    "$Gy = J/kg$\n",
    "\n",
    "$Gy = Q/m$"
   ]
  },
  {
   "cell_type": "code",
   "execution_count": 28,
   "id": "28074e3e",
   "metadata": {},
   "outputs": [
    {
     "name": "stdout",
     "output_type": "stream",
     "text": [
      "The water temp increases by 9.556e-04 C\n"
     ]
    }
   ],
   "source": [
    "dose = 4/1000 #Gy\n",
    "c_p = 4.186 #J/g to J/kg\n",
    "Temp = dose/c_p\n",
    "print(\"The water temp increases by {:.3e} C\".format(Temp))"
   ]
  },
  {
   "cell_type": "markdown",
   "id": "7e8a3259",
   "metadata": {},
   "source": [
    "### Exercise 11.1\n",
    "\n",
    "Similar to the Kr-85 analysis, estimate the MPC (max. permissible concentration) in air for (a) tritium and (b) argon-41, having average beta particle energy of 6 and 459 keV, respectively.\n",
    "\n",
    "**Recall:**\n",
    "$$ \\frac{A}{V} = \\frac{2H\\rho}{tE_dQF} $$"
   ]
  },
  {
   "cell_type": "code",
   "execution_count": 41,
   "id": "1a4e1516",
   "metadata": {},
   "outputs": [
    {
     "name": "stdout",
     "output_type": "stream",
     "text": [
      "(a) 0.0005048968489287894 uCi/cm^3\n",
      "(b) 8.507294160256067e-07 uCi/cm^3\n"
     ]
    }
   ],
   "source": [
    "#Activity/volume: uCi/cm^3\n",
    "H = 5 #rem (occupational limit)\n",
    "rho = 1.293e-3\n",
    "E_d = 6000\n",
    "A_per_V = 2*H*1.293e-3*1e-5*(1/3.7e4)/((40*50*3600)*6000*const.eV)\n",
    "print(\"(a)\", A_per_V, \"uCi/cm^3\")\n",
    "\n",
    "E_d = 459e3\n",
    "A_per_V = 2*H*1e-5*(1/3.7e4)/((40*50*3600)*6000*E_d*const.eV)\n",
    "print(\"(b)\", A_per_V, \"uCi/cm^3\")"
   ]
  },
  {
   "cell_type": "markdown",
   "id": "7eb3cb18",
   "metadata": {},
   "source": [
    "### Exercise 11.4\n",
    "\n",
    "The nuclear reactions resulting from thermal neutron absorption in boron and cadmium are\n",
    "$$ ^{10}_5\\!B + ^1_0\\!n \\rightarrow ^7_3\\!Li + ^4_2\\!He $$ \n",
    "\n",
    "$$^{113}_{48}\\!Cd + ^1_0\\!n \\rightarrow ^{114}_{48}\\!Cd + \\gamma [5MeV] $$\n",
    "\n",
    "Which material would you select for a radiation shield? Explain."
   ]
  },
  {
   "cell_type": "code",
   "execution_count": null,
   "id": "3fb8ac05",
   "metadata": {},
   "outputs": [],
   "source": []
  }
 ],
 "metadata": {
  "kernelspec": {
   "display_name": "Python 3",
   "language": "python",
   "name": "python3"
  },
  "language_info": {
   "codemirror_mode": {
    "name": "ipython",
    "version": 3
   },
   "file_extension": ".py",
   "mimetype": "text/x-python",
   "name": "python",
   "nbconvert_exporter": "python",
   "pygments_lexer": "ipython3",
   "version": "3.8.8"
  }
 },
 "nbformat": 4,
 "nbformat_minor": 5
}
