{
 "cells": [
  {
   "cell_type": "code",
   "execution_count": 15,
   "metadata": {},
   "outputs": [],
   "source": [
    "import scipy.constants as consts\n",
    "import math"
   ]
  },
  {
   "cell_type": "markdown",
   "metadata": {
    "id": "0YLeWBJRTGym"
   },
   "source": [
    "## Problem 16.1\n",
    "\n",
    "Calculate the reproduction factor η for fast neutrons for \n",
    "- (a) U-235, \n",
    "- (b) U-238, and \n",
    "- (c) Pu-239\n"
   ]
  },
  {
   "cell_type": "markdown",
   "metadata": {},
   "source": [
    "$$\\frac{\\nu \\sigma_f}{\\sigma_a} = \\frac{\\nu \\sigma_f}{\\sigma_f + \\sigma_{\\gamma} + ...}$$"
   ]
  },
  {
   "cell_type": "code",
   "execution_count": 16,
   "metadata": {},
   "outputs": [
    {
     "name": "stdout",
     "output_type": "stream",
     "text": [
      "(a) The reproduction factor for U-235 is 2.21\n",
      "(b) The reproduction factor for U-238 is 0.97\n",
      "(b) The reproduction factor for Pu-239 is 2.61\n"
     ]
    }
   ],
   "source": [
    "# (a)\n",
    "v_U235 = 2.6 #Table 16.3\n",
    "sigma_f = 1.4\n",
    "sigma_a = sigma_f + 0.25\n",
    "eta_U235 = v_U235*sigma_f/sigma_a\n",
    "print('(a)','The reproduction factor for U-235 is {:.2f}'.format(eta_U235))\n",
    "\n",
    "# (b)\n",
    "v_U238 = 2.6\n",
    "sigma_f = 0.095\n",
    "sigma_a = sigma_f + 0.16\n",
    "eta_U238 =  v_U238*sigma_f/sigma_a\n",
    "print('(b)','The reproduction factor for U-238 is {:.2f}'.format(eta_U238))\n",
    "\n",
    "# (c)\n",
    "print('(b)','The reproduction factor for Pu-239 is 2.61')"
   ]
  },
  {
   "cell_type": "markdown",
   "metadata": {
    "id": "jRYYZyLaUVDk"
   },
   "source": [
    "### Exercise 16.2\n",
    "\n",
    "If the power developed by the Godiva-type reactor of mass 50 kg is 100 W, what is the average flux?"
   ]
  },
  {
   "cell_type": "markdown",
   "metadata": {},
   "source": [
    "$$P = \\phi \\sigma_f w N_{fuel}$$\n",
    "\n",
    "$$ \\phi = \\frac{P}{\\sigma_f w N_{fuel}}$$\n",
    "\n",
    "$$N = \\frac{\\rho N_A}{M} $$"
   ]
  },
  {
   "cell_type": "code",
   "execution_count": 28,
   "metadata": {},
   "outputs": [
    {
     "name": "stdout",
     "output_type": "stream",
     "text": [
      "(a) The average flux of this reaction in the Godiva-type reactor is 2.038e+10neutrons/(cm^2s)\n"
     ]
    }
   ],
   "source": [
    "P = 100 #Watts\n",
    "w = 190*(1.6e-13) #MeV\n",
    "sigma_f = 1.4e-24 #Convert from barns to cm^2\n",
    "m_U235 = 0.9*50e3 #kg\n",
    "rho = 18.75 #g/cm^3\n",
    "N_U235 = m_U235*consts.N_A/235\n",
    "flux = P/(sigma_f*w*N_U235)\n",
    "print(\"(a) The average flux of this reaction in the Godiva-type reactor is {:.3e}neutrons/(cm^2s)\".format(flux))"
   ]
  },
  {
   "cell_type": "markdown",
   "metadata": {
    "id": "zwHHjiYXYynw"
   },
   "source": [
    "### Exercise 16.3\n",
    "- (a) Find the multiplication factors $k_\\infty$ and $k_{eff}$ for a thermal reactor with $\\varepsilon=1.05$, $\\wp=0.75$, $\\mathscr{L}_f=0.90$, $\\mathscr{L}_t=0.98$, $f=0.85$, and   $\\eta=1.75$.\n",
    "- (b) Evaluate the reactivity $\\rho$."
   ]
  },
  {
   "cell_type": "markdown",
   "metadata": {},
   "source": [
    "$$k_{\\infty} = \\epsilon f \\wp \\eta$$"
   ]
  },
  {
   "cell_type": "code",
   "execution_count": 31,
   "metadata": {},
   "outputs": [
    {
     "name": "stdout",
     "output_type": "stream",
     "text": [
      "1.17140625\n",
      "1.0331803124999999\n",
      "0.03211473553896225\n"
     ]
    }
   ],
   "source": [
    "# (a)\n",
    "k_inf = 1.05*0.75*0.85*1.75\n",
    "print(k_inf)\n",
    "k_eff = k_inf*0.9*0.98\n",
    "print(k_eff)\n",
    "\n",
    "# (b)\n",
    "react = (k_eff-1)/k_eff\n",
    "print(react)"
   ]
  },
  {
   "cell_type": "markdown",
   "metadata": {},
   "source": [
    "### Exercise 16.13\n",
    "\n",
    "Estimate and compare the total mean free paths for fast and thermal neutrons in the (a) Godiva\n",
    "and (b) Jezebel assemblies."
   ]
  },
  {
   "cell_type": "markdown",
   "metadata": {},
   "source": [
    "$$\\lambda = 1/\\Sigma$$\n",
    "$$\\Sigma = N \\sigma$$\n",
    "\n",
    "$$\\lambda_{tr} = \\frac{\\lambda_s}{1-\\overline{u}}$$\n",
    "\n",
    "$$\\overline{u} = 2/(3A)$$\n",
    "\n",
    "When absorption is significant:\n",
    "\n",
    "$$\\Sigma_{tr} = \\Sigma_{total} - \\overline{u} \\Sigma_s$$"
   ]
  },
  {
   "cell_type": "code",
   "execution_count": 36,
   "metadata": {},
   "outputs": [
    {
     "name": "stdout",
     "output_type": "stream",
     "text": [
      "3.060601417928267 cm for fast neutrons in Godiva\n",
      "0.03486696204039574 cm for thermal neutrons in Jezebel\n"
     ]
    }
   ],
   "source": [
    "#In Godiva you are using Uranium 235\n",
    "# (a) fast\n",
    "sigma_tr = 6.8e-24\n",
    "N_U235 = 18.75*consts.N_A/235 #g/cm^3\n",
    "Sigma_tr = sigma_tr*N_U235\n",
    "lambda_U235 = 1/Sigma_tr\n",
    "print(lambda_U235, \"cm for fast neutrons in Godiva\")\n",
    "\n",
    "# (a) thermal: transport cross-section = fission + scattering\n",
    "sigma_f = 582.6 #Table 4.2\n",
    "sigma_s = 14.3\n",
    "Sigma_total = (sigma_f + sigma_s)*(1e-24)*N_U235\n",
    "lambda_Uthermal = 1/Sigma_total\n",
    "print(lambda_Uthermal, \"cm for thermal neutrons in Godiva\")\n",
    "\n",
    "#Now in Jezebel you are using Plutonium 239"
   ]
  },
  {
   "cell_type": "markdown",
   "metadata": {
    "id": "IBxhHggUBYxh"
   },
   "source": [
    "## Extra Problem\n",
    "\n",
    "**Question:** Why don't we consider the neutron half-life as a factor in $k_{eff}$?\n",
    "\n",
    "* What is the neutron half-life and corresponding average lifetime?\n",
    "* What is the neutron lifetime in an infinite reactor (so neglecting the effect of leakage)?"
   ]
  }
 ],
 "metadata": {
  "colab": {
   "collapsed_sections": [],
   "name": "Chapter16-Class-Problems.ipynb",
   "provenance": []
  },
  "kernelspec": {
   "display_name": "Python 3",
   "language": "python",
   "name": "python3"
  },
  "language_info": {
   "codemirror_mode": {
    "name": "ipython",
    "version": 3
   },
   "file_extension": ".py",
   "mimetype": "text/x-python",
   "name": "python",
   "nbconvert_exporter": "python",
   "pygments_lexer": "ipython3",
   "version": "3.8.8"
  }
 },
 "nbformat": 4,
 "nbformat_minor": 1
}
