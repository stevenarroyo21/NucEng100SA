{
 "cells": [
  {
   "cell_type": "markdown",
   "metadata": {},
   "source": [
    "## NE 100/200M - Introduction to Nuclear Energy and Technology\n",
    "# Homework 6\n",
    "##### Due October 14, 2023\n",
    "This week's homework is a mix of questions that expand on some of what we have discussed or read about so far and some problems from the book."
   ]
  },
  {
   "cell_type": "code",
   "execution_count": 1,
   "metadata": {},
   "outputs": [],
   "source": [
    "# Uploading all the packages that might be used\n",
    "import math as math\n",
    "import scipy.constants as constants"
   ]
  },
  {
   "cell_type": "markdown",
   "metadata": {},
   "source": [
    "### Problem 1\n",
    "Light water reactors often contain neutron reflectors. What is their purpose? What impact do they have on the 6-factor formula? What characteristics might make a good reflector? What materials are commonly used as neutron reflectors?\n",
    "\n"
   ]
  },
  {
   "cell_type": "markdown",
   "metadata": {},
   "source": [
    "ANSWER: Neutron reflectors in light water reactors bounce escaping neutrons back into the core, improving the reactor's neutron economy and extending fuel life. They help achieve a more uniform power distribution across the reactor core, preventing localized overheating. Additionally, by reducing neutron escape, they lessen external radiation levels and can reduce the need for additional shielding.\n",
    "\n",
    "Neutron reflectors primarily influence the non-leakage factors in the 6-factor formula (K-effective) by decreasing the probability of neutron leakage from the reactor core. Depending on the reactor design, they might also impact other factors, such as increasing the fast fission factor by reflecting fast neutrons back into the core.\n",
    "\n",
    "A good neutron reflector should have a high scattering cross-section, low absorption cross-section, thermal stability, structural integrity, chemical stability, radiation resistance, and efficient heat conduction. More commonly used neutron reflector materials include graphite, beryllium, and heavy water (deuterium oxide, D₂O)."
   ]
  },
  {
   "cell_type": "markdown",
   "metadata": {},
   "source": [
    "### Problem 2\n",
    "What law authorized the Nuclear Reactor Innovation Center? What are some other provisions of the law, including a major initiative being undertaken by DOE-NE?"
   ]
  },
  {
   "cell_type": "markdown",
   "metadata": {},
   "source": [
    "ANSWER: From what I could find, the Nuclear Energy Innovation Capabilities Act of 2017 was what authorized the establishment of the Nuclear Reactor Innovation Center to facilitate the testing and demonstration of advanced reactor concepts in partnership with the private sector. This law tasked nuclear engineers with developing a versatile reactor-based fast neutron source to test advanced reactor fuels and materials."
   ]
  },
  {
   "cell_type": "markdown",
   "metadata": {},
   "source": [
    "### Exercise 20.2\n",
    "\n",
    "- (a) If the total number of neutrons from fission by thermal neutrons absorbed in U-235 is 2.42, how many are delayed and how many are prompt? \n",
    "- (b) A reactor is said to be prompt critical if it has a positive reactivity of βT or more. Explain the meaning of the phrase. \n",
    "- (c) What is the period for a reactor with prompt neutron lifetime $5\\times10^6$s if the reactivity is 0.013? \n",
    "- (d) What is the reactor period if instead the reactivity is 0.0013?"
   ]
  },
  {
   "cell_type": "code",
   "execution_count": 2,
   "metadata": {},
   "outputs": [
    {
     "name": "stdout",
     "output_type": "stream",
     "text": [
      "(a) The number of delayed neutrons in this reaction is 0.016\n",
      "(c) The period of the reactor is 7.692e-04seconds\n",
      "(d) The new period of the reactor is 6.350e+01seconds, rounded to 63.5seconds\n"
     ]
    }
   ],
   "source": [
    "#This code is for part A\n",
    "#So for this question, we know that the split between delayed and prompt neutrons is 0.65% to 99.35%\n",
    "#All we need to do is multiply the value of N times 0.65%\n",
    "Delayed = 0.65/100\n",
    "N = 2.42\n",
    "Delayed_Neutrons = N*Delayed\n",
    "print(\"(a) The number of delayed neutrons in this reaction is {:.3f}\".format(Delayed_Neutrons))\n",
    "\n",
    "#This code is for part B\n",
    "#A reactor is \"prompt critical\" when its reactivity exceeds the threshold βT,which means that the reaction is\n",
    "#relying solely on prompt neutrons from fissions for an exponential power increase.\n",
    "#This state can lead to rapid and potentially dangerous surges in reactor power if not controlled.\n",
    "\n",
    "#This code is for part C\n",
    "β = 0.0065\n",
    "lifetime = 5e-6\n",
    "T = lifetime/(0.013-β)\n",
    "print(\"(c) The period of the reactor is {:.3e}seconds\".format(T))\n",
    "\n",
    "#This code is for part D\n",
    "NewT = (β*12.7)/0.0013\n",
    "print(\"(d) The new period of the reactor is {:.3e}seconds, rounded to 63.5seconds\".format(NewT))"
   ]
  },
  {
   "cell_type": "markdown",
   "metadata": {},
   "source": [
    "### Exercise 20.3\n",
    "A U-235 fueled reactor is operating at a power level of 250MWe. Control rods are removed\n",
    "to give a reactivity of 0.0005. Noting that this is much less than $β_T$, calculate the time\n",
    "required to go to a power of 300MWe, neglecting any temperature feedback."
   ]
  },
  {
   "cell_type": "markdown",
   "metadata": {},
   "source": [
    "We need an equation that will help us solve for time.\n",
    "\n",
    "Using the equations for initial power Pt and for the period T of the reactor, we can derive this equation:\n",
    "\n",
    "$$t = (\\frac{l_{eff}}{\\sigma k}) \\ln({\\frac{P_t}{P_o}})$$\n",
    "\n",
    "Then we can plug in our knowns:"
   ]
  },
  {
   "cell_type": "code",
   "execution_count": 3,
   "metadata": {},
   "outputs": [
    {
     "name": "stdout",
     "output_type": "stream",
     "text": [
      "The time required to reach 300MWe from 250MWe is 30.27 seconds\n"
     ]
    }
   ],
   "source": [
    "leff = 0.083\n",
    "sigma_k = 0.0005\n",
    "Pt = 300\n",
    "Po = 250\n",
    "t = (leff/sigma_k)*(math.log(Pt/Po))\n",
    "print(\"The time required to reach 300MWe from 250MWe is {:.2f} seconds\".format(t))"
   ]
  },
  {
   "cell_type": "markdown",
   "metadata": {},
   "source": [
    "### Exercise 20.7\n",
    "\n",
    "(a) Taking account of Xe-135 production, absorption, and decay, show that the balance\n",
    "equation is\n",
    "$$ N_X (ϕσ^X_a + \\lambda_X) = \\phi N_F\\sigma^F_f(\\gamma_I +\\gamma_X)$$ \n",
    "(b) Calculate $\\lambda_X$ and the ratio of absorption rates in Xe-135 and fuel if $\\phi$ is $2\\times10^{13}$/($cm^2$ s)"
   ]
  },
  {
   "cell_type": "markdown",
   "metadata": {},
   "source": [
    "#### Answer A) \n",
    "\n",
    "The equation for the rate of change for a fission reaction is as follows:\n",
    "\n",
    "$$\\frac{dN_X}{dt} = \\gamma_X \\Sigma_f \\phi + \\lambda_1 N_1 - \\lambda_X N_X - \\sigma_a^X N_X \\phi$$\n",
    "\n",
    "We also know that:\n",
    "\n",
    "$$\\frac{dN_1}{dt} = \\gamma_1 \\Sigma_f \\phi - \\lambda_1 N_1$$\n",
    "\n",
    "But for steady and balanced reactions:\n",
    "\n",
    "$$\\frac{dN_X}{dt} = 0, \\frac{dN_1}{dt} = 0, and, \\Sigma_f = N_F \\sigma_f^F$$\n",
    "\n",
    "So therefore:\n",
    "\n",
    "$$\\gamma_X \\Sigma_f \\phi + \\lambda_1 N_1 - \\lambda_X N_X - \\sigma_a^X N_X \\phi = 0$$\n",
    "\n",
    "$$\\gamma_1 \\Sigma_f \\phi - \\lambda_1 N_1 = 0$$\n",
    "\n",
    "Rearranging elements with one's that have a phi term makes the equation look as follows:\n",
    "\n",
    "$$\\gamma_X \\Sigma_f \\phi - \\sigma_a^X N_X \\phi + \\lambda_1 N_1 - \\lambda_X N_X = 0$$\n",
    "\n",
    "$$(\\gamma_X \\Sigma_f - \\sigma_a^X N_X) \\phi + \\lambda_1 N_1 - \\lambda_X N_X = 0$$\n",
    "\n",
    "Substituting in the dN_1 equation into this formula yields:\n",
    "\n",
    "$$\\gamma_X \\Sigma_f \\phi - \\sigma_a^X N_X \\phi + \\gamma_1 \\Sigma_f \\phi - \\lambda_X N_X = 0$$\n",
    "\n",
    "$$\\Sigma_f (\\gamma_X + \\gamma_1) = N_X  (\\sigma_a^X \\phi + \\lambda_X)$$\n",
    "\n",
    "$$Now \\space substitute \\space N_F \\sigma_f^F \\space for \\space \\Sigma_f$$\n",
    "\n",
    "$$Therefore, \\space N_X (\\phi \\sigma^X_a + \\lambda_X) = \\phi N_F\\sigma^F_f(\\gamma_I +\\gamma_X)$$"
   ]
  },
  {
   "cell_type": "markdown",
   "metadata": {},
   "source": [
    "The equation we need for part B to calculate the ratio of absorption rates can be rearranged from the part A equation.\n",
    "\n",
    "$$\\frac{N_X}{N_F} = \\frac{\\phi \\sigma_f^F (\\gamma_x + \\gamma_1)}{\\phi (\\sigma_a^X + \\lambda_X)}$$\n",
    "\n",
    "We can rearrange this as:\n",
    "\n",
    "$$\\frac{R_a^X}{R_a^F} = \\frac{\\sigma_a^X \\phi \\sigma_f^F (\\gamma_x + \\gamma_1)}{\\sigma_a^F \\phi (\\sigma_a^X + \\lambda_X)}$$\n",
    "\n",
    "Which can cancel out the phi terms:\n",
    "\n",
    "$$\\frac{R_a^X}{R_a^F} = \\frac{\\sigma_a^X \\sigma_f^F (\\gamma_x + \\gamma_1)}{\\sigma_a^F (\\sigma_a^X + \\lambda_X)}$$\n",
    "\n",
    "Now we can solve:"
   ]
  },
  {
   "cell_type": "code",
   "execution_count": 18,
   "metadata": {},
   "outputs": [
    {
     "name": "stdout",
     "output_type": "stream",
     "text": [
      "The 𝜆x value is 2.107e-05 s^-1\n",
      "The ratio of absorption rates is 0.039\n"
     ]
    }
   ],
   "source": [
    "#This code is for part B\n",
    "\n",
    "#First we need to calculate the decay constant:\n",
    "𝜆x = math.log(2)/(9.14*3600)\n",
    "print(\"The 𝜆x value is {:.3e} s^-1\".format(𝜆x))\n",
    "𝜎fF_𝜎aF_ratio = 0.86\n",
    "𝜎aX = 2.65e-18\n",
    "phi = 2e13\n",
    "𝛾𝑥 = 0.003\n",
    "𝛾1 = 0.061\n",
    "Ratio = ((phi*𝜎fF_𝜎aF_ratio)*𝜎aX*(𝛾𝑥 + 𝛾1))/((phi*𝜎aX) + 𝜆x)\n",
    "print(\"The ratio of absorption rates is {:.3f}\".format(Ratio))"
   ]
  },
  {
   "cell_type": "markdown",
   "metadata": {},
   "source": [
    "### Exercise 21.6\n",
    "Using eqn 21.4 (21.2 in 7th edition), calculate the ratio of fission product power to reactor power for four times after shutdown: 1 day, 1 week, 1 month, and 1 year"
   ]
  },
  {
   "cell_type": "markdown",
   "metadata": {},
   "source": [
    "$$P_f = P_0 0.07 t^{-0.2}$$\n",
    "\n",
    "$$\\frac{P_f}{P_0} = 0.07 t^{-0.2}$$"
   ]
  },
  {
   "cell_type": "code",
   "execution_count": 25,
   "metadata": {},
   "outputs": [
    {
     "name": "stdout",
     "output_type": "stream",
     "text": [
      "8.640e+04\n",
      "6.048e+05\n",
      "2.592e+06\n",
      "3.154e+07\n"
     ]
    }
   ],
   "source": [
    "#All time values in seconds\n",
    "day = 24*60*60\n",
    "print(\"{:.3e}\".format(day))\n",
    "week = 7*24*60*60\n",
    "print(\"{:.3e}\".format(week))\n",
    "month = 30*24*60*60\n",
    "print(\"{:.3e}\".format(month))\n",
    "year = 365*24*60*60 #Assuming not a leap year :)\n",
    "print(\"{:.3e}\".format(year))"
   ]
  },
  {
   "cell_type": "markdown",
   "metadata": {},
   "source": [
    "Using these values, we plug them into the \"t\" variable in the equation. Used my calculator:\n",
    "\n",
    "$$\\frac{P_f}{P_0} = 0.07day^{-0.2}$$\n",
    "\n",
    "$$\\frac{P_f}{P_0} = 0.0124$$\n",
    "\n",
    "$$\\frac{P_f}{P_0} = 0.07week^{-0.2}$$\n",
    "\n",
    "$$\\frac{P_f}{P_0} = 0.0116$$\n",
    "\n",
    "$$\\frac{P_f}{P_0} = 0.07month^{-0.2}$$\n",
    "\n",
    "$$\\frac{P_f}{P_0} = 0.0223$$\n",
    "\n",
    "$$\\frac{P_f}{P_0} = 0.07year^{-0.2}$$\n",
    "\n",
    "$$\\frac{P_f}{P_0} = 0.0141$$"
   ]
  },
  {
   "cell_type": "markdown",
   "metadata": {},
   "source": [
    "### Exercise 21.13\n",
    "If the probabillity of a main coolant pipe failure is 3 in 10,000 operating years, how many total failures might be expected to occur over the 40 y lives of the LWR and heavy water reactor (HWR) plants in operation worldwide (use data from Table 18.3)."
   ]
  },
  {
   "cell_type": "code",
   "execution_count": 31,
   "metadata": {},
   "outputs": [
    {
     "name": "stdout",
     "output_type": "stream",
     "text": [
      "The number of failures expected to occur over the 40 year lifespan is 4.98 failures.\n"
     ]
    }
   ],
   "source": [
    "#Data from Table 18\n",
    "#f we only consider the reactors in operation:\n",
    "N = 291+75+49\n",
    "Failures = N*40*(3/10000)\n",
    "print(\"The number of failures expected to occur over the 40 year lifespan is {:.2f} failures.\".format(Failures))"
   ]
  },
  {
   "cell_type": "markdown",
   "metadata": {},
   "source": [
    "### Exercise 21.14 \n",
    "Compute the neutron absorption rate by 1 cm$^3$ of  \n",
    "(a) liquid water ($\\rho$ = 0.75 g/cm$^3$),  \n",
    "(b) vaporized water ($\\rho$ = 0.033 g/cm$^3$), and  \n",
    "(c) solid graphite   \n",
    "in a flux of $10^{16}$ n/cm$^2 \\cdot$s."
   ]
  },
  {
   "cell_type": "markdown",
   "metadata": {},
   "source": [
    "$$R_a = \\Sigma_a \\phi_{avg} N$$\n",
    "\n",
    "$$N = \\frac{N_A \\rho V}{M}$$"
   ]
  },
  {
   "cell_type": "code",
   "execution_count": 49,
   "metadata": {},
   "outputs": [
    {
     "name": "stdout",
     "output_type": "stream",
     "text": [
      "(a) The neurn absorption rate for liquid water is 1.673e+14 neutrons per second.\n",
      "(b) The neurn absorption rate for liquid water is 7.361e+12 neutrons per second.\n",
      "(b) The neurn absorption rate for liquid water is 3.970e+12 neutrons per second.\n"
     ]
    }
   ],
   "source": [
    "#Sigma is the cross section of the water, which is the same for A and B\n",
    "Sigma_Water = (2/3)*(1e-24) #Conversion to cm^2\n",
    "Sigma_Graphite = (3.5e-3)*(1e-24) #Conversion to cm^2\n",
    "phi_avg = 1e16 #neutrons per cm^2*s\n",
    "\n",
    "#This code is for part A\n",
    "NA= 6.023e23\n",
    "𝜌 = 0.75 #g/cm^3\n",
    "V = 1 #g/cm^3\n",
    "M = 18 #g\n",
    "N = (NA*𝜌*V)/M\n",
    "R = Sigma_Water*phi_avg*N\n",
    "print(\"(a) The neurn absorption rate for liquid water is {:.3e} neutrons per second.\".format(R))\n",
    "\n",
    "#This code is for part B\n",
    "𝜌 = 0.033 #g/cm^3\n",
    "V = 1 #g/cm^3\n",
    "M = 18 #g\n",
    "N = (NA*𝜌*V)/M\n",
    "R = Sigma_Water*phi_avg*N\n",
    "print(\"(b) The neurn absorption rate for liquid water is {:.3e} neutrons per second.\".format(R))\n",
    "\n",
    "#This code is for part B\n",
    "𝜌 = 2.26 #g/cm^3\n",
    "V = 1 #g/cm^3\n",
    "M = 12 #g\n",
    "N = (NA*𝜌*V)/M\n",
    "R = Sigma_Graphite*phi_avg*N\n",
    "print(\"(b) The neurn absorption rate for liquid water is {:.3e} neutrons per second.\".format(R))"
   ]
  }
 ],
 "metadata": {
  "anaconda-cloud": {},
  "kernelspec": {
   "display_name": "Python 3",
   "language": "python",
   "name": "python3"
  },
  "language_info": {
   "codemirror_mode": {
    "name": "ipython",
    "version": 3
   },
   "file_extension": ".py",
   "mimetype": "text/x-python",
   "name": "python",
   "nbconvert_exporter": "python",
   "pygments_lexer": "ipython3",
   "version": "3.8.8"
  }
 },
 "nbformat": 4,
 "nbformat_minor": 1
}
